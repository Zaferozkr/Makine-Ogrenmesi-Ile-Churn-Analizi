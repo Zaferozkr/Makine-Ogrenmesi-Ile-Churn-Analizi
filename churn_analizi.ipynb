{
 "cells": [
  {
   "cell_type": "markdown",
   "id": "fca29dbe-c6cb-4c2d-a2f0-5fa24965ba70",
   "metadata": {
    "tags": []
   },
   "source": [
    "### Gerekli Kütüphaneler"
   ]
  },
  {
   "cell_type": "code",
   "execution_count": 1,
   "id": "acbe825e-de44-4ce3-9c74-6ee73283341e",
   "metadata": {
    "tags": []
   },
   "outputs": [],
   "source": [
    "import numpy as np \n",
    "import pandas as pd\n",
    "import seaborn as sns\n",
    "import matplotlib.pyplot as plt \n",
    "from sklearn.model_selection import train_test_split, GridSearchCV\n",
    "from sklearn.metrics import  accuracy_score\n",
    "from sklearn.linear_model import LogisticRegression\n",
    "from sklearn.neighbors import KNeighborsClassifier, LocalOutlierFactor\n",
    "from sklearn.svm import SVC\n",
    "from sklearn.tree import DecisionTreeClassifier\n",
    "from sklearn.ensemble import RandomForestClassifier\n",
    "from sklearn.ensemble import GradientBoostingClassifier \n",
    "from xgboost import XGBClassifier\n",
    "from lightgbm import LGBMClassifier\n",
    "from catboost import CatBoostClassifier"
   ]
  },
  {
   "cell_type": "markdown",
   "id": "505d0fb3-87c2-4041-900d-ceeeac7b40b1",
   "metadata": {},
   "source": [
    "##### **Veri Ön İşleme :** numpy, pandas\n",
    "##### **Veri Görselleştirme :** seaborn, matplotlib \n",
    "##### **GridSearchCv :** Hiperparametre Optimizasyonu için kullanılır.\n",
    "##### **LocalOutlierFactor :** Aykırı değerleri tespit etmek için kullanılır."
   ]
  },
  {
   "cell_type": "code",
   "execution_count": 2,
   "id": "43a5f43f-0d68-4567-9db9-856e8b71be56",
   "metadata": {},
   "outputs": [],
   "source": [
    "import warnings\n",
    "warnings.filterwarnings(\"ignore\", category=DeprecationWarning)\n",
    "warnings.filterwarnings(\"ignore\", category=FutureWarning)"
   ]
  },
  {
   "cell_type": "markdown",
   "id": "81ce1216-ee72-4f4d-b1b2-6aab35d5e960",
   "metadata": {},
   "source": [
    "## Veri Setinin Yüklenmesi"
   ]
  },
  {
   "cell_type": "code",
   "execution_count": 3,
   "id": "a7090436-da56-4357-bc9e-43101716c717",
   "metadata": {},
   "outputs": [
    {
     "data": {
      "text/html": [
       "<div>\n",
       "<style scoped>\n",
       "    .dataframe tbody tr th:only-of-type {\n",
       "        vertical-align: middle;\n",
       "    }\n",
       "\n",
       "    .dataframe tbody tr th {\n",
       "        vertical-align: top;\n",
       "    }\n",
       "\n",
       "    .dataframe thead th {\n",
       "        text-align: right;\n",
       "    }\n",
       "</style>\n",
       "<table border=\"1\" class=\"dataframe\">\n",
       "  <thead>\n",
       "    <tr style=\"text-align: right;\">\n",
       "      <th></th>\n",
       "      <th>RowNumber</th>\n",
       "      <th>CustomerId</th>\n",
       "      <th>Surname</th>\n",
       "      <th>CreditScore</th>\n",
       "      <th>Geography</th>\n",
       "      <th>Gender</th>\n",
       "      <th>Age</th>\n",
       "      <th>Tenure</th>\n",
       "      <th>Balance</th>\n",
       "      <th>NumOfProducts</th>\n",
       "      <th>HasCrCard</th>\n",
       "      <th>IsActiveMember</th>\n",
       "      <th>EstimatedSalary</th>\n",
       "      <th>Exited</th>\n",
       "    </tr>\n",
       "  </thead>\n",
       "  <tbody>\n",
       "    <tr>\n",
       "      <th>0</th>\n",
       "      <td>1</td>\n",
       "      <td>15634602</td>\n",
       "      <td>Hargrave</td>\n",
       "      <td>619</td>\n",
       "      <td>France</td>\n",
       "      <td>Female</td>\n",
       "      <td>42</td>\n",
       "      <td>2</td>\n",
       "      <td>0.00</td>\n",
       "      <td>1</td>\n",
       "      <td>1</td>\n",
       "      <td>1</td>\n",
       "      <td>101348.88</td>\n",
       "      <td>1</td>\n",
       "    </tr>\n",
       "    <tr>\n",
       "      <th>1</th>\n",
       "      <td>2</td>\n",
       "      <td>15647311</td>\n",
       "      <td>Hill</td>\n",
       "      <td>608</td>\n",
       "      <td>Spain</td>\n",
       "      <td>Female</td>\n",
       "      <td>41</td>\n",
       "      <td>1</td>\n",
       "      <td>83807.86</td>\n",
       "      <td>1</td>\n",
       "      <td>0</td>\n",
       "      <td>1</td>\n",
       "      <td>112542.58</td>\n",
       "      <td>0</td>\n",
       "    </tr>\n",
       "    <tr>\n",
       "      <th>2</th>\n",
       "      <td>3</td>\n",
       "      <td>15619304</td>\n",
       "      <td>Onio</td>\n",
       "      <td>502</td>\n",
       "      <td>France</td>\n",
       "      <td>Female</td>\n",
       "      <td>42</td>\n",
       "      <td>8</td>\n",
       "      <td>159660.80</td>\n",
       "      <td>3</td>\n",
       "      <td>1</td>\n",
       "      <td>0</td>\n",
       "      <td>113931.57</td>\n",
       "      <td>1</td>\n",
       "    </tr>\n",
       "    <tr>\n",
       "      <th>3</th>\n",
       "      <td>4</td>\n",
       "      <td>15701354</td>\n",
       "      <td>Boni</td>\n",
       "      <td>699</td>\n",
       "      <td>France</td>\n",
       "      <td>Female</td>\n",
       "      <td>39</td>\n",
       "      <td>1</td>\n",
       "      <td>0.00</td>\n",
       "      <td>2</td>\n",
       "      <td>0</td>\n",
       "      <td>0</td>\n",
       "      <td>93826.63</td>\n",
       "      <td>0</td>\n",
       "    </tr>\n",
       "    <tr>\n",
       "      <th>4</th>\n",
       "      <td>5</td>\n",
       "      <td>15737888</td>\n",
       "      <td>Mitchell</td>\n",
       "      <td>850</td>\n",
       "      <td>Spain</td>\n",
       "      <td>Female</td>\n",
       "      <td>43</td>\n",
       "      <td>2</td>\n",
       "      <td>125510.82</td>\n",
       "      <td>1</td>\n",
       "      <td>1</td>\n",
       "      <td>1</td>\n",
       "      <td>79084.10</td>\n",
       "      <td>0</td>\n",
       "    </tr>\n",
       "  </tbody>\n",
       "</table>\n",
       "</div>"
      ],
      "text/plain": [
       "   RowNumber  CustomerId   Surname  CreditScore Geography  Gender  Age  \\\n",
       "0          1    15634602  Hargrave          619    France  Female   42   \n",
       "1          2    15647311      Hill          608     Spain  Female   41   \n",
       "2          3    15619304      Onio          502    France  Female   42   \n",
       "3          4    15701354      Boni          699    France  Female   39   \n",
       "4          5    15737888  Mitchell          850     Spain  Female   43   \n",
       "\n",
       "   Tenure    Balance  NumOfProducts  HasCrCard  IsActiveMember  \\\n",
       "0       2       0.00              1          1               1   \n",
       "1       1   83807.86              1          0               1   \n",
       "2       8  159660.80              3          1               0   \n",
       "3       1       0.00              2          0               0   \n",
       "4       2  125510.82              1          1               1   \n",
       "\n",
       "   EstimatedSalary  Exited  \n",
       "0        101348.88       1  \n",
       "1        112542.58       0  \n",
       "2        113931.57       1  \n",
       "3         93826.63       0  \n",
       "4         79084.10       0  "
      ]
     },
     "execution_count": 3,
     "metadata": {},
     "output_type": "execute_result"
    }
   ],
   "source": [
    "df = pd.read_csv(\"Churn.csv\")\n",
    "df.head()"
   ]
  },
  {
   "cell_type": "markdown",
   "id": "f2e64bd2-3380-4f0f-a3ad-0db125ebd492",
   "metadata": {},
   "source": [
    "## Veriyi Anlama"
   ]
  },
  {
   "cell_type": "markdown",
   "id": "f415a237-78d7-4cf4-bff3-4bb2036ee5e6",
   "metadata": {},
   "source": [
    "### Veri Seti Hakkında Bilgi"
   ]
  },
  {
   "cell_type": "markdown",
   "id": "43ba804c-aa27-4d0a-98f2-5f68e2894b36",
   "metadata": {},
   "source": [
    "| DEĞİŞKENLER     | AÇIKLAMA            | ALT SINIF                  |\n",
    "|-----------------|---------------------|----------------------------|\n",
    "| CustomerId      | Müşteri İd          | id                         |\n",
    "| CreditScore     | Kredi Skoru         | 350 - 850                  |\n",
    "| Geography       | Coğrafya            | İspanya - Almanya - Fransa |\n",
    "| Gender          | Cinsiyet            | Kadın – Erkek              |\n",
    "| Age             | Yaş                 | 18 - 92                    |\n",
    "| Tenure          | Müşteri olma süresi | 0 - 10                     |\n",
    "| Balance         | Bakiye              | 0 - 250.898                |\n",
    "| NumOfProducts   | Ürün Sayısı         | 1- 2 - 3 - 4               |\n",
    "| HasCrCard       | Kredi kartı var mı? | 0 - 1                      |\n",
    "| IsActiveMember  | Aktif üye mi?       | 0 - 1                      |\n",
    "| EstimatedSalary | Maaş Tahmini        | 11 - 199.992               |\n",
    "| Exited          | Churn durumu        | 0 (remain) – 1 (churn)     |"
   ]
  },
  {
   "cell_type": "code",
   "execution_count": 4,
   "id": "fad68c2d-0ff9-486d-9e22-5f109c260ee6",
   "metadata": {},
   "outputs": [
    {
     "name": "stdout",
     "output_type": "stream",
     "text": [
      "<class 'pandas.core.frame.DataFrame'>\n",
      "RangeIndex: 10000 entries, 0 to 9999\n",
      "Data columns (total 14 columns):\n",
      " #   Column           Non-Null Count  Dtype  \n",
      "---  ------           --------------  -----  \n",
      " 0   RowNumber        10000 non-null  int64  \n",
      " 1   CustomerId       10000 non-null  int64  \n",
      " 2   Surname          10000 non-null  object \n",
      " 3   CreditScore      10000 non-null  int64  \n",
      " 4   Geography        10000 non-null  object \n",
      " 5   Gender           10000 non-null  object \n",
      " 6   Age              10000 non-null  int64  \n",
      " 7   Tenure           10000 non-null  int64  \n",
      " 8   Balance          10000 non-null  float64\n",
      " 9   NumOfProducts    10000 non-null  int64  \n",
      " 10  HasCrCard        10000 non-null  int64  \n",
      " 11  IsActiveMember   10000 non-null  int64  \n",
      " 12  EstimatedSalary  10000 non-null  float64\n",
      " 13  Exited           10000 non-null  int64  \n",
      "dtypes: float64(2), int64(9), object(3)\n",
      "memory usage: 1.1+ MB\n"
     ]
    }
   ],
   "source": [
    "df.info()"
   ]
  },
  {
   "cell_type": "markdown",
   "id": "1884b39d-989e-44ab-b07d-1d234e34843d",
   "metadata": {},
   "source": [
    "#### Betimsel İstatistiklerin Hesaplanması"
   ]
  },
  {
   "cell_type": "code",
   "execution_count": 5,
   "id": "26d5f13b-9896-40c6-8896-dd2cfbfb6920",
   "metadata": {},
   "outputs": [
    {
     "data": {
      "text/html": [
       "<div>\n",
       "<style scoped>\n",
       "    .dataframe tbody tr th:only-of-type {\n",
       "        vertical-align: middle;\n",
       "    }\n",
       "\n",
       "    .dataframe tbody tr th {\n",
       "        vertical-align: top;\n",
       "    }\n",
       "\n",
       "    .dataframe thead th {\n",
       "        text-align: right;\n",
       "    }\n",
       "</style>\n",
       "<table border=\"1\" class=\"dataframe\">\n",
       "  <thead>\n",
       "    <tr style=\"text-align: right;\">\n",
       "      <th></th>\n",
       "      <th>count</th>\n",
       "      <th>mean</th>\n",
       "      <th>std</th>\n",
       "      <th>min</th>\n",
       "      <th>25%</th>\n",
       "      <th>50%</th>\n",
       "      <th>75%</th>\n",
       "      <th>max</th>\n",
       "    </tr>\n",
       "  </thead>\n",
       "  <tbody>\n",
       "    <tr>\n",
       "      <th>RowNumber</th>\n",
       "      <td>10000.0</td>\n",
       "      <td>5.000500e+03</td>\n",
       "      <td>2886.895680</td>\n",
       "      <td>1.00</td>\n",
       "      <td>2500.75</td>\n",
       "      <td>5.000500e+03</td>\n",
       "      <td>7.500250e+03</td>\n",
       "      <td>10000.00</td>\n",
       "    </tr>\n",
       "    <tr>\n",
       "      <th>CustomerId</th>\n",
       "      <td>10000.0</td>\n",
       "      <td>1.569094e+07</td>\n",
       "      <td>71936.186123</td>\n",
       "      <td>15565701.00</td>\n",
       "      <td>15628528.25</td>\n",
       "      <td>1.569074e+07</td>\n",
       "      <td>1.575323e+07</td>\n",
       "      <td>15815690.00</td>\n",
       "    </tr>\n",
       "    <tr>\n",
       "      <th>CreditScore</th>\n",
       "      <td>10000.0</td>\n",
       "      <td>6.505288e+02</td>\n",
       "      <td>96.653299</td>\n",
       "      <td>350.00</td>\n",
       "      <td>584.00</td>\n",
       "      <td>6.520000e+02</td>\n",
       "      <td>7.180000e+02</td>\n",
       "      <td>850.00</td>\n",
       "    </tr>\n",
       "    <tr>\n",
       "      <th>Age</th>\n",
       "      <td>10000.0</td>\n",
       "      <td>3.892180e+01</td>\n",
       "      <td>10.487806</td>\n",
       "      <td>18.00</td>\n",
       "      <td>32.00</td>\n",
       "      <td>3.700000e+01</td>\n",
       "      <td>4.400000e+01</td>\n",
       "      <td>92.00</td>\n",
       "    </tr>\n",
       "    <tr>\n",
       "      <th>Tenure</th>\n",
       "      <td>10000.0</td>\n",
       "      <td>5.012800e+00</td>\n",
       "      <td>2.892174</td>\n",
       "      <td>0.00</td>\n",
       "      <td>3.00</td>\n",
       "      <td>5.000000e+00</td>\n",
       "      <td>7.000000e+00</td>\n",
       "      <td>10.00</td>\n",
       "    </tr>\n",
       "    <tr>\n",
       "      <th>Balance</th>\n",
       "      <td>10000.0</td>\n",
       "      <td>7.648589e+04</td>\n",
       "      <td>62397.405202</td>\n",
       "      <td>0.00</td>\n",
       "      <td>0.00</td>\n",
       "      <td>9.719854e+04</td>\n",
       "      <td>1.276442e+05</td>\n",
       "      <td>250898.09</td>\n",
       "    </tr>\n",
       "    <tr>\n",
       "      <th>NumOfProducts</th>\n",
       "      <td>10000.0</td>\n",
       "      <td>1.530200e+00</td>\n",
       "      <td>0.581654</td>\n",
       "      <td>1.00</td>\n",
       "      <td>1.00</td>\n",
       "      <td>1.000000e+00</td>\n",
       "      <td>2.000000e+00</td>\n",
       "      <td>4.00</td>\n",
       "    </tr>\n",
       "    <tr>\n",
       "      <th>HasCrCard</th>\n",
       "      <td>10000.0</td>\n",
       "      <td>7.055000e-01</td>\n",
       "      <td>0.455840</td>\n",
       "      <td>0.00</td>\n",
       "      <td>0.00</td>\n",
       "      <td>1.000000e+00</td>\n",
       "      <td>1.000000e+00</td>\n",
       "      <td>1.00</td>\n",
       "    </tr>\n",
       "    <tr>\n",
       "      <th>IsActiveMember</th>\n",
       "      <td>10000.0</td>\n",
       "      <td>5.151000e-01</td>\n",
       "      <td>0.499797</td>\n",
       "      <td>0.00</td>\n",
       "      <td>0.00</td>\n",
       "      <td>1.000000e+00</td>\n",
       "      <td>1.000000e+00</td>\n",
       "      <td>1.00</td>\n",
       "    </tr>\n",
       "    <tr>\n",
       "      <th>EstimatedSalary</th>\n",
       "      <td>10000.0</td>\n",
       "      <td>1.000902e+05</td>\n",
       "      <td>57510.492818</td>\n",
       "      <td>11.58</td>\n",
       "      <td>51002.11</td>\n",
       "      <td>1.001939e+05</td>\n",
       "      <td>1.493882e+05</td>\n",
       "      <td>199992.48</td>\n",
       "    </tr>\n",
       "    <tr>\n",
       "      <th>Exited</th>\n",
       "      <td>10000.0</td>\n",
       "      <td>2.037000e-01</td>\n",
       "      <td>0.402769</td>\n",
       "      <td>0.00</td>\n",
       "      <td>0.00</td>\n",
       "      <td>0.000000e+00</td>\n",
       "      <td>0.000000e+00</td>\n",
       "      <td>1.00</td>\n",
       "    </tr>\n",
       "  </tbody>\n",
       "</table>\n",
       "</div>"
      ],
      "text/plain": [
       "                   count          mean           std          min  \\\n",
       "RowNumber        10000.0  5.000500e+03   2886.895680         1.00   \n",
       "CustomerId       10000.0  1.569094e+07  71936.186123  15565701.00   \n",
       "CreditScore      10000.0  6.505288e+02     96.653299       350.00   \n",
       "Age              10000.0  3.892180e+01     10.487806        18.00   \n",
       "Tenure           10000.0  5.012800e+00      2.892174         0.00   \n",
       "Balance          10000.0  7.648589e+04  62397.405202         0.00   \n",
       "NumOfProducts    10000.0  1.530200e+00      0.581654         1.00   \n",
       "HasCrCard        10000.0  7.055000e-01      0.455840         0.00   \n",
       "IsActiveMember   10000.0  5.151000e-01      0.499797         0.00   \n",
       "EstimatedSalary  10000.0  1.000902e+05  57510.492818        11.58   \n",
       "Exited           10000.0  2.037000e-01      0.402769         0.00   \n",
       "\n",
       "                         25%           50%           75%          max  \n",
       "RowNumber            2500.75  5.000500e+03  7.500250e+03     10000.00  \n",
       "CustomerId       15628528.25  1.569074e+07  1.575323e+07  15815690.00  \n",
       "CreditScore           584.00  6.520000e+02  7.180000e+02       850.00  \n",
       "Age                    32.00  3.700000e+01  4.400000e+01        92.00  \n",
       "Tenure                  3.00  5.000000e+00  7.000000e+00        10.00  \n",
       "Balance                 0.00  9.719854e+04  1.276442e+05    250898.09  \n",
       "NumOfProducts           1.00  1.000000e+00  2.000000e+00         4.00  \n",
       "HasCrCard               0.00  1.000000e+00  1.000000e+00         1.00  \n",
       "IsActiveMember          0.00  1.000000e+00  1.000000e+00         1.00  \n",
       "EstimatedSalary     51002.11  1.001939e+05  1.493882e+05    199992.48  \n",
       "Exited                  0.00  0.000000e+00  0.000000e+00         1.00  "
      ]
     },
     "execution_count": 5,
     "metadata": {},
     "output_type": "execute_result"
    }
   ],
   "source": [
    "df.describe().T"
   ]
  },
  {
   "cell_type": "markdown",
   "id": "13458d42-4356-4328-9072-f104124e796f",
   "metadata": {},
   "source": [
    "#### Eksik Değer Analizi"
   ]
  },
  {
   "cell_type": "code",
   "execution_count": 6,
   "id": "c0f5962d-e020-4600-9459-f0436559aed9",
   "metadata": {},
   "outputs": [
    {
     "data": {
      "text/plain": [
       "RowNumber          0\n",
       "CustomerId         0\n",
       "Surname            0\n",
       "CreditScore        0\n",
       "Geography          0\n",
       "Gender             0\n",
       "Age                0\n",
       "Tenure             0\n",
       "Balance            0\n",
       "NumOfProducts      0\n",
       "HasCrCard          0\n",
       "IsActiveMember     0\n",
       "EstimatedSalary    0\n",
       "Exited             0\n",
       "dtype: int64"
      ]
     },
     "execution_count": 6,
     "metadata": {},
     "output_type": "execute_result"
    }
   ],
   "source": [
    "df.isna().sum()"
   ]
  },
  {
   "cell_type": "markdown",
   "id": "abc6ec54-28e1-4335-af8c-7951a440f621",
   "metadata": {},
   "source": [
    "#### Korelasyon Analizi"
   ]
  },
  {
   "cell_type": "code",
   "execution_count": 7,
   "id": "3ea56e34-f108-4ae3-96d8-1b46ed067a1f",
   "metadata": {},
   "outputs": [
    {
     "data": {
      "image/png": "[encoded data removed]",
      "text/plain": [
       "<Figure size 864x720 with 2 Axes>"
      ]
     },
     "metadata": {
      "needs_background": "light"
     },
     "output_type": "display_data"
    }
   ],
   "source": [
    "plt.figure(figsize=(12,10))\n",
    "cor = df.corr()\n",
    "sns.heatmap(cor, annot=True, cmap=plt.cm.Reds)\n",
    "plt.show()"
   ]
  },
  {
   "cell_type": "markdown",
   "id": "d716c091-f1f5-4bb3-8ba0-f54486bedaac",
   "metadata": {},
   "source": [
    "## Bağımlı Değişkeni İnceleme"
   ]
  },
  {
   "cell_type": "code",
   "execution_count": 8,
   "id": "bf261c26-de94-42b3-b8ce-2adc4605aae6",
   "metadata": {},
   "outputs": [
    {
     "data": {
      "text/plain": [
       "0    7963\n",
       "1    2037\n",
       "Name: Exited, dtype: int64"
      ]
     },
     "execution_count": 8,
     "metadata": {},
     "output_type": "execute_result"
    }
   ],
   "source": [
    "df[\"Exited\"].value_counts()"
   ]
  },
  {
   "cell_type": "code",
   "execution_count": 9,
   "id": "77910b5d-4749-4913-9c79-420193c41272",
   "metadata": {},
   "outputs": [
    {
     "name": "stdout",
     "output_type": "stream",
     "text": [
      "0.2037\n"
     ]
    },
    {
     "data": {
      "image/png": "[encoded data removed]",
      "text/plain": [
       "<Figure size 432x288 with 1 Axes>"
      ]
     },
     "metadata": {
      "needs_background": "light"
     },
     "output_type": "display_data"
    }
   ],
   "source": [
    "print(2037/10000)\n",
    "sns.countplot(df['Exited'],label=\"Count\");"
   ]
  },
  {
   "cell_type": "markdown",
   "id": "5587a7fc-f7f5-4ffa-bb85-36d737a69af6",
   "metadata": {},
   "source": [
    "Veri setinde 0-1 dengesi: %80-20"
   ]
  },
  {
   "cell_type": "markdown",
   "id": "2201fe5b-a6bd-4690-b7df-656387398447",
   "metadata": {},
   "source": [
    "## Bağımsız Değişkenleri İnceleme"
   ]
  },
  {
   "cell_type": "markdown",
   "id": "a7be2eb5-e05e-42bc-ba6e-851ed9ac8a50",
   "metadata": {},
   "source": [
    "### CreditScore (Kredi Skoru)"
   ]
  },
  {
   "cell_type": "code",
   "execution_count": 10,
   "id": "79aae3f0-db6f-4fc3-a7e3-648d712dac81",
   "metadata": {},
   "outputs": [
    {
     "data": {
      "text/plain": [
       "count    10000.000000\n",
       "mean       650.528800\n",
       "std         96.653299\n",
       "min        350.000000\n",
       "25%        584.000000\n",
       "50%        652.000000\n",
       "75%        718.000000\n",
       "max        850.000000\n",
       "Name: CreditScore, dtype: float64"
      ]
     },
     "execution_count": 10,
     "metadata": {},
     "output_type": "execute_result"
    }
   ],
   "source": [
    "df[\"CreditScore\"].describe().T"
   ]
  },
  {
   "cell_type": "code",
   "execution_count": 11,
   "id": "ac4c87ca-b45d-4621-bac0-4b7832b126ae",
   "metadata": {
    "tags": []
   },
   "outputs": [
    {
     "data": {
      "image/png": "[encoded data removed]",
      "text/plain": [
       "<Figure size 432x288 with 1 Axes>"
      ]
     },
     "metadata": {
      "needs_background": "light"
     },
     "output_type": "display_data"
    }
   ],
   "source": [
    "sns.boxplot(df[\"CreditScore\"]);"
   ]
  },
  {
   "cell_type": "code",
   "execution_count": 12,
   "id": "f5d5a333-d460-470e-ab54-2de1ceedd122",
   "metadata": {},
   "outputs": [
    {
     "data": {
      "image/png": "[encoded data removed]",
      "text/plain": [
       "<Figure size 432x288 with 1 Axes>"
      ]
     },
     "metadata": {
      "needs_background": "light"
     },
     "output_type": "display_data"
    }
   ],
   "source": [
    "sns.distplot(df[\"CreditScore\"], kde=False);"
   ]
  },
  {
   "cell_type": "markdown",
   "id": "8906f1c7-a2cf-43a9-9d3a-9c7c3f8223e2",
   "metadata": {},
   "source": [
    "### Age (Yaş)"
   ]
  },
  {
   "cell_type": "code",
   "execution_count": 13,
   "id": "b35e9def-9d7a-42ac-8ae8-3b073bbb4f7e",
   "metadata": {},
   "outputs": [
    {
     "data": {
      "text/plain": [
       "count    10000.000000\n",
       "mean        38.921800\n",
       "std         10.487806\n",
       "min         18.000000\n",
       "25%         32.000000\n",
       "50%         37.000000\n",
       "75%         44.000000\n",
       "max         92.000000\n",
       "Name: Age, dtype: float64"
      ]
     },
     "execution_count": 13,
     "metadata": {},
     "output_type": "execute_result"
    }
   ],
   "source": [
    "df[\"Age\"].describe()"
   ]
  },
  {
   "cell_type": "code",
   "execution_count": 14,
   "id": "d258954b-6206-4d19-a222-5d4707841fad",
   "metadata": {},
   "outputs": [
    {
     "data": {
      "image/png": "[encoded data removed]",
      "text/plain": [
       "<Figure size 432x288 with 1 Axes>"
      ]
     },
     "metadata": {
      "needs_background": "light"
     },
     "output_type": "display_data"
    }
   ],
   "source": [
    "sns.boxplot(df[\"Age\"]);"
   ]
  },
  {
   "cell_type": "code",
   "execution_count": 15,
   "id": "8bac6ce2-847e-4bbe-8d92-784b34ea5a72",
   "metadata": {},
   "outputs": [
    {
     "data": {
      "image/png": "[encoded data removed]",
      "text/plain": [
       "<Figure size 432x288 with 1 Axes>"
      ]
     },
     "metadata": {
      "needs_background": "light"
     },
     "output_type": "display_data"
    }
   ],
   "source": [
    "sns.distplot(df[\"Age\"], kde=False);"
   ]
  },
  {
   "cell_type": "markdown",
   "id": "e338bc18-6fb8-419d-9377-83a82a59b5f1",
   "metadata": {},
   "source": [
    "### Tenure (müşteri olma süresi)"
   ]
  },
  {
   "cell_type": "code",
   "execution_count": 16,
   "id": "859225b1-df48-4855-bf55-683c2e384237",
   "metadata": {},
   "outputs": [
    {
     "data": {
      "text/plain": [
       "2     1048\n",
       "1     1035\n",
       "7     1028\n",
       "8     1025\n",
       "5     1012\n",
       "3     1009\n",
       "4      989\n",
       "9      984\n",
       "6      967\n",
       "10     490\n",
       "0      413\n",
       "Name: Tenure, dtype: int64"
      ]
     },
     "execution_count": 16,
     "metadata": {},
     "output_type": "execute_result"
    }
   ],
   "source": [
    "df[\"Tenure\"].value_counts()"
   ]
  },
  {
   "cell_type": "code",
   "execution_count": 17,
   "id": "90bef909-9fb3-416d-b4c3-07bb456c878b",
   "metadata": {},
   "outputs": [
    {
     "data": {
      "image/png": "[encoded data removed]",
      "text/plain": [
       "<Figure size 432x288 with 1 Axes>"
      ]
     },
     "metadata": {
      "needs_background": "light"
     },
     "output_type": "display_data"
    }
   ],
   "source": [
    "sns.countplot(df['Tenure'],label=\"Count\");"
   ]
  },
  {
   "cell_type": "markdown",
   "id": "1e24109a-c94f-4bd1-aac7-f83ec707d67c",
   "metadata": {},
   "source": [
    "### Balance (Bakiye)"
   ]
  },
  {
   "cell_type": "code",
   "execution_count": 18,
   "id": "7d74c92d-e0ab-4d1d-9712-f198c66ee2c7",
   "metadata": {},
   "outputs": [
    {
     "data": {
      "text/plain": [
       "count     10000.000000\n",
       "mean      76485.889288\n",
       "std       62397.405202\n",
       "min           0.000000\n",
       "25%           0.000000\n",
       "50%       97198.540000\n",
       "75%      127644.240000\n",
       "max      250898.090000\n",
       "Name: Balance, dtype: float64"
      ]
     },
     "execution_count": 18,
     "metadata": {},
     "output_type": "execute_result"
    }
   ],
   "source": [
    "df[\"Balance\"].describe()"
   ]
  },
  {
   "cell_type": "markdown",
   "id": "012a781b-c412-43c6-98ae-96f7b0d4efe2",
   "metadata": {},
   "source": [
    "### NumOfProducts (Ürün Sayısı)"
   ]
  },
  {
   "cell_type": "code",
   "execution_count": 19,
   "id": "33c22b59-c1b8-4c34-bdac-0c8b1782b3e8",
   "metadata": {},
   "outputs": [
    {
     "data": {
      "text/plain": [
       "1    5084\n",
       "2    4590\n",
       "3     266\n",
       "4      60\n",
       "Name: NumOfProducts, dtype: int64"
      ]
     },
     "execution_count": 19,
     "metadata": {},
     "output_type": "execute_result"
    }
   ],
   "source": [
    "df[\"NumOfProducts\"].value_counts()"
   ]
  },
  {
   "cell_type": "markdown",
   "id": "9c983f8f-b8c9-4504-8ab1-2a901ec0db48",
   "metadata": {},
   "source": [
    "### HasCrCard (Kredi kartı var mı?)"
   ]
  },
  {
   "cell_type": "code",
   "execution_count": 20,
   "id": "1b441cf5-9f5b-4d5d-bfad-573409ba04a3",
   "metadata": {},
   "outputs": [
    {
     "name": "stdout",
     "output_type": "stream",
     "text": [
      "1    7055\n",
      "0    2945\n",
      "Name: HasCrCard, dtype: int64\n"
     ]
    }
   ],
   "source": [
    "print(df[\"HasCrCard\"].value_counts())"
   ]
  },
  {
   "cell_type": "code",
   "execution_count": 21,
   "id": "b324a87c-39a7-4b0a-af7d-6188742e39b0",
   "metadata": {},
   "outputs": [
    {
     "name": "stdout",
     "output_type": "stream",
     "text": [
      "0-1 proportion: 0.7055\n"
     ]
    },
    {
     "data": {
      "text/plain": [
       "<AxesSubplot:xlabel='HasCrCard', ylabel='count'>"
      ]
     },
     "execution_count": 21,
     "metadata": {},
     "output_type": "execute_result"
    },
    {
     "data": {
      "image/png": "[encoded data removed]",
      "text/plain": [
       "<Figure size 432x288 with 1 Axes>"
      ]
     },
     "metadata": {
      "needs_background": "light"
     },
     "output_type": "display_data"
    }
   ],
   "source": [
    "print(\"0-1 proportion:\",7055/10000)\n",
    "sns.countplot(df['HasCrCard'],label=\"Count\")"
   ]
  },
  {
   "cell_type": "markdown",
   "id": "ff20053c-5de5-405e-9505-c26a3922d462",
   "metadata": {},
   "source": [
    "## Veri Ön İşleme"
   ]
  },
  {
   "cell_type": "markdown",
   "id": "9cc6e5d6-4163-4bcf-aa97-e52b6ef775d7",
   "metadata": {},
   "source": [
    "### Gereksiz Kolonların Silinmesi"
   ]
  },
  {
   "cell_type": "code",
   "execution_count": 22,
   "id": "76deded6-289c-4208-af11-8e128ab181c5",
   "metadata": {},
   "outputs": [],
   "source": [
    "df = df.drop([\"RowNumber\",\"Surname\",\"CustomerId\"],axis = 1)"
   ]
  },
  {
   "cell_type": "code",
   "execution_count": 23,
   "id": "e33eddcf-44cb-46e3-a0b8-a1927dfb7bde",
   "metadata": {},
   "outputs": [
    {
     "data": {
      "text/html": [
       "<div>\n",
       "<style scoped>\n",
       "    .dataframe tbody tr th:only-of-type {\n",
       "        vertical-align: middle;\n",
       "    }\n",
       "\n",
       "    .dataframe tbody tr th {\n",
       "        vertical-align: top;\n",
       "    }\n",
       "\n",
       "    .dataframe thead th {\n",
       "        text-align: right;\n",
       "    }\n",
       "</style>\n",
       "<table border=\"1\" class=\"dataframe\">\n",
       "  <thead>\n",
       "    <tr style=\"text-align: right;\">\n",
       "      <th></th>\n",
       "      <th>CreditScore</th>\n",
       "      <th>Geography</th>\n",
       "      <th>Gender</th>\n",
       "      <th>Age</th>\n",
       "      <th>Tenure</th>\n",
       "      <th>Balance</th>\n",
       "      <th>NumOfProducts</th>\n",
       "      <th>HasCrCard</th>\n",
       "      <th>IsActiveMember</th>\n",
       "      <th>EstimatedSalary</th>\n",
       "      <th>Exited</th>\n",
       "    </tr>\n",
       "  </thead>\n",
       "  <tbody>\n",
       "    <tr>\n",
       "      <th>0</th>\n",
       "      <td>619</td>\n",
       "      <td>France</td>\n",
       "      <td>Female</td>\n",
       "      <td>42</td>\n",
       "      <td>2</td>\n",
       "      <td>0.00</td>\n",
       "      <td>1</td>\n",
       "      <td>1</td>\n",
       "      <td>1</td>\n",
       "      <td>101348.88</td>\n",
       "      <td>1</td>\n",
       "    </tr>\n",
       "    <tr>\n",
       "      <th>1</th>\n",
       "      <td>608</td>\n",
       "      <td>Spain</td>\n",
       "      <td>Female</td>\n",
       "      <td>41</td>\n",
       "      <td>1</td>\n",
       "      <td>83807.86</td>\n",
       "      <td>1</td>\n",
       "      <td>0</td>\n",
       "      <td>1</td>\n",
       "      <td>112542.58</td>\n",
       "      <td>0</td>\n",
       "    </tr>\n",
       "    <tr>\n",
       "      <th>2</th>\n",
       "      <td>502</td>\n",
       "      <td>France</td>\n",
       "      <td>Female</td>\n",
       "      <td>42</td>\n",
       "      <td>8</td>\n",
       "      <td>159660.80</td>\n",
       "      <td>3</td>\n",
       "      <td>1</td>\n",
       "      <td>0</td>\n",
       "      <td>113931.57</td>\n",
       "      <td>1</td>\n",
       "    </tr>\n",
       "    <tr>\n",
       "      <th>3</th>\n",
       "      <td>699</td>\n",
       "      <td>France</td>\n",
       "      <td>Female</td>\n",
       "      <td>39</td>\n",
       "      <td>1</td>\n",
       "      <td>0.00</td>\n",
       "      <td>2</td>\n",
       "      <td>0</td>\n",
       "      <td>0</td>\n",
       "      <td>93826.63</td>\n",
       "      <td>0</td>\n",
       "    </tr>\n",
       "    <tr>\n",
       "      <th>4</th>\n",
       "      <td>850</td>\n",
       "      <td>Spain</td>\n",
       "      <td>Female</td>\n",
       "      <td>43</td>\n",
       "      <td>2</td>\n",
       "      <td>125510.82</td>\n",
       "      <td>1</td>\n",
       "      <td>1</td>\n",
       "      <td>1</td>\n",
       "      <td>79084.10</td>\n",
       "      <td>0</td>\n",
       "    </tr>\n",
       "  </tbody>\n",
       "</table>\n",
       "</div>"
      ],
      "text/plain": [
       "   CreditScore Geography  Gender  Age  Tenure    Balance  NumOfProducts  \\\n",
       "0          619    France  Female   42       2       0.00              1   \n",
       "1          608     Spain  Female   41       1   83807.86              1   \n",
       "2          502    France  Female   42       8  159660.80              3   \n",
       "3          699    France  Female   39       1       0.00              2   \n",
       "4          850     Spain  Female   43       2  125510.82              1   \n",
       "\n",
       "   HasCrCard  IsActiveMember  EstimatedSalary  Exited  \n",
       "0          1               1        101348.88       1  \n",
       "1          0               1        112542.58       0  \n",
       "2          1               0        113931.57       1  \n",
       "3          0               0         93826.63       0  \n",
       "4          1               1         79084.10       0  "
      ]
     },
     "execution_count": 23,
     "metadata": {},
     "output_type": "execute_result"
    }
   ],
   "source": [
    "df.head()"
   ]
  },
  {
   "cell_type": "markdown",
   "id": "651bad9f-10cc-4fd9-9e6a-3cf77a2c85f0",
   "metadata": {},
   "source": [
    "### Aykırı Değer Analizi"
   ]
  },
  {
   "cell_type": "code",
   "execution_count": 24,
   "id": "cf4f41a0-d492-4922-be2d-d66b66110765",
   "metadata": {},
   "outputs": [
    {
     "data": {
      "text/html": [
       "<div>\n",
       "<style scoped>\n",
       "    .dataframe tbody tr th:only-of-type {\n",
       "        vertical-align: middle;\n",
       "    }\n",
       "\n",
       "    .dataframe tbody tr th {\n",
       "        vertical-align: top;\n",
       "    }\n",
       "\n",
       "    .dataframe thead th {\n",
       "        text-align: right;\n",
       "    }\n",
       "</style>\n",
       "<table border=\"1\" class=\"dataframe\">\n",
       "  <thead>\n",
       "    <tr style=\"text-align: right;\">\n",
       "      <th></th>\n",
       "      <th>CreditScore</th>\n",
       "      <th>Age</th>\n",
       "      <th>Tenure</th>\n",
       "      <th>Balance</th>\n",
       "      <th>NumOfProducts</th>\n",
       "      <th>HasCrCard</th>\n",
       "      <th>IsActiveMember</th>\n",
       "      <th>EstimatedSalary</th>\n",
       "      <th>Exited</th>\n",
       "    </tr>\n",
       "  </thead>\n",
       "  <tbody>\n",
       "    <tr>\n",
       "      <th>0</th>\n",
       "      <td>619</td>\n",
       "      <td>42</td>\n",
       "      <td>2</td>\n",
       "      <td>0.00</td>\n",
       "      <td>1</td>\n",
       "      <td>1</td>\n",
       "      <td>1</td>\n",
       "      <td>101348.88</td>\n",
       "      <td>1</td>\n",
       "    </tr>\n",
       "    <tr>\n",
       "      <th>1</th>\n",
       "      <td>608</td>\n",
       "      <td>41</td>\n",
       "      <td>1</td>\n",
       "      <td>83807.86</td>\n",
       "      <td>1</td>\n",
       "      <td>0</td>\n",
       "      <td>1</td>\n",
       "      <td>112542.58</td>\n",
       "      <td>0</td>\n",
       "    </tr>\n",
       "    <tr>\n",
       "      <th>2</th>\n",
       "      <td>502</td>\n",
       "      <td>42</td>\n",
       "      <td>8</td>\n",
       "      <td>159660.80</td>\n",
       "      <td>3</td>\n",
       "      <td>1</td>\n",
       "      <td>0</td>\n",
       "      <td>113931.57</td>\n",
       "      <td>1</td>\n",
       "    </tr>\n",
       "    <tr>\n",
       "      <th>3</th>\n",
       "      <td>699</td>\n",
       "      <td>39</td>\n",
       "      <td>1</td>\n",
       "      <td>0.00</td>\n",
       "      <td>2</td>\n",
       "      <td>0</td>\n",
       "      <td>0</td>\n",
       "      <td>93826.63</td>\n",
       "      <td>0</td>\n",
       "    </tr>\n",
       "    <tr>\n",
       "      <th>4</th>\n",
       "      <td>850</td>\n",
       "      <td>43</td>\n",
       "      <td>2</td>\n",
       "      <td>125510.82</td>\n",
       "      <td>1</td>\n",
       "      <td>1</td>\n",
       "      <td>1</td>\n",
       "      <td>79084.10</td>\n",
       "      <td>0</td>\n",
       "    </tr>\n",
       "  </tbody>\n",
       "</table>\n",
       "</div>"
      ],
      "text/plain": [
       "   CreditScore  Age  Tenure    Balance  NumOfProducts  HasCrCard  \\\n",
       "0          619   42       2       0.00              1          1   \n",
       "1          608   41       1   83807.86              1          0   \n",
       "2          502   42       8  159660.80              3          1   \n",
       "3          699   39       1       0.00              2          0   \n",
       "4          850   43       2  125510.82              1          1   \n",
       "\n",
       "   IsActiveMember  EstimatedSalary  Exited  \n",
       "0               1        101348.88       1  \n",
       "1               1        112542.58       0  \n",
       "2               0        113931.57       1  \n",
       "3               0         93826.63       0  \n",
       "4               1         79084.10       0  "
      ]
     },
     "execution_count": 24,
     "metadata": {},
     "output_type": "execute_result"
    }
   ],
   "source": [
    "df_a = df.select_dtypes(include = [\"float64\",\"int64\"])\n",
    "df_a.head()"
   ]
  },
  {
   "cell_type": "code",
   "execution_count": 25,
   "id": "74ae3ca1-53d4-458e-a89d-66603e963b5f",
   "metadata": {},
   "outputs": [],
   "source": [
    "clf = LocalOutlierFactor(n_neighbors = 20, contamination = 0.1)"
   ]
  },
  {
   "cell_type": "code",
   "execution_count": 26,
   "id": "53aae5dc-4cb9-48a8-a108-0c9f0f0639d5",
   "metadata": {},
   "outputs": [
    {
     "data": {
      "text/plain": [
       "array([ 1,  1, -1, ..., -1,  1,  1])"
      ]
     },
     "execution_count": 26,
     "metadata": {},
     "output_type": "execute_result"
    }
   ],
   "source": [
    "clf.fit_predict(df_a)"
   ]
  },
  {
   "cell_type": "code",
   "execution_count": 27,
   "id": "9308775b-9396-4c8c-a789-a2f5c8172427",
   "metadata": {},
   "outputs": [],
   "source": [
    "df_scores = clf.negative_outlier_factor_"
   ]
  },
  {
   "cell_type": "code",
   "execution_count": 28,
   "id": "60bccf11-99d3-4ecd-9780-c4f8642afc51",
   "metadata": {},
   "outputs": [
    {
     "data": {
      "image/png": "[encoded data removed]",
      "text/plain": [
       "<Figure size 432x288 with 1 Axes>"
      ]
     },
     "metadata": {
      "needs_background": "light"
     },
     "output_type": "display_data"
    }
   ],
   "source": [
    "plot_xlim = 50\n",
    "pd.DataFrame(np.sort(df_scores)).plot(stacked = True, xlim= [0,plot_xlim], style = \".-\");"
   ]
  },
  {
   "cell_type": "markdown",
   "id": "12c56344-9cf6-4e5a-923c-959a1324739b",
   "metadata": {},
   "source": [
    "#### Eşik değerin tespiti için grafik oluşturuldu."
   ]
  },
  {
   "cell_type": "code",
   "execution_count": 29,
   "id": "6dd6eade-9a2b-4df9-afd2-f45dcbda22de",
   "metadata": {},
   "outputs": [
    {
     "name": "stdout",
     "output_type": "stream",
     "text": [
      "[-31.49663685 -27.44927654 -26.14262253 -19.30696453 -18.13171409\n",
      " -17.84140487  -7.5107614   -2.57672799  -1.94375423  -1.87606468\n",
      "  -1.8695207   -1.84846824  -1.78318189  -1.73424049  -1.6544467\n",
      "  -1.62935918  -1.6104212   -1.5696074   -1.56190544  -1.55336258\n",
      "  -1.54929217  -1.54715089  -1.53882179  -1.53491898  -1.52313988\n",
      "  -1.51682373  -1.51195229  -1.50903939  -1.50179381  -1.49541553\n",
      "  -1.48059874  -1.48050377  -1.4764176   -1.47550725  -1.46917115\n",
      "  -1.46826836  -1.46094353  -1.45205995  -1.44833385  -1.44133983\n",
      "  -1.4338032   -1.42862437  -1.42502668  -1.42168784  -1.41543383\n",
      "  -1.41207162  -1.40982989  -1.40921302  -1.39902307  -1.39180439]\n"
     ]
    }
   ],
   "source": [
    "print(np.sort(df_scores)[0:plot_xlim])"
   ]
  },
  {
   "cell_type": "code",
   "execution_count": 30,
   "id": "9231257f-c5dd-4382-85f9-b65e28036675",
   "metadata": {},
   "outputs": [
    {
     "data": {
      "text/plain": [
       "-7.510761395609971"
      ]
     },
     "execution_count": 30,
     "metadata": {},
     "output_type": "execute_result"
    }
   ],
   "source": [
    "np.sort(df_scores)[6]"
   ]
  },
  {
   "cell_type": "code",
   "execution_count": 31,
   "id": "5564900d-b781-4805-97a1-8a94e9c0608c",
   "metadata": {},
   "outputs": [],
   "source": [
    "esik_deger = np.sort(df_scores)[6]"
   ]
  },
  {
   "cell_type": "code",
   "execution_count": 32,
   "id": "acb4c36d-7f0f-4ef8-a5c0-43685423beec",
   "metadata": {},
   "outputs": [],
   "source": [
    "df = df.drop(df[df_scores < esik_deger].index,axis = 0 ).reset_index(drop = True)"
   ]
  },
  {
   "cell_type": "markdown",
   "id": "8caacbc2-134c-4443-b1e8-fbd2b90421f4",
   "metadata": {},
   "source": [
    "#### Eşik değer belirlenerek eşik değerden küçük değerler(aykırı değerler) silindi."
   ]
  },
  {
   "cell_type": "markdown",
   "id": "9e15ae08-d503-46df-b64c-a38f7473db39",
   "metadata": {},
   "source": [
    "### Kategorik Verilerin Sayısal Veriye Çevrilmesi"
   ]
  },
  {
   "cell_type": "code",
   "execution_count": 33,
   "id": "be2854b1-0931-4d65-9cc0-cc30794b5909",
   "metadata": {},
   "outputs": [],
   "source": [
    "df_cat = pd.get_dummies(df[[\"Geography\",\"Gender\"]])"
   ]
  },
  {
   "cell_type": "code",
   "execution_count": 34,
   "id": "4f77bde0-748a-445c-8820-7ebd5e396f7e",
   "metadata": {},
   "outputs": [
    {
     "data": {
      "text/html": [
       "<div>\n",
       "<style scoped>\n",
       "    .dataframe tbody tr th:only-of-type {\n",
       "        vertical-align: middle;\n",
       "    }\n",
       "\n",
       "    .dataframe tbody tr th {\n",
       "        vertical-align: top;\n",
       "    }\n",
       "\n",
       "    .dataframe thead th {\n",
       "        text-align: right;\n",
       "    }\n",
       "</style>\n",
       "<table border=\"1\" class=\"dataframe\">\n",
       "  <thead>\n",
       "    <tr style=\"text-align: right;\">\n",
       "      <th></th>\n",
       "      <th>Geography_France</th>\n",
       "      <th>Geography_Germany</th>\n",
       "      <th>Geography_Spain</th>\n",
       "      <th>Gender_Female</th>\n",
       "      <th>Gender_Male</th>\n",
       "    </tr>\n",
       "  </thead>\n",
       "  <tbody>\n",
       "    <tr>\n",
       "      <th>0</th>\n",
       "      <td>1</td>\n",
       "      <td>0</td>\n",
       "      <td>0</td>\n",
       "      <td>1</td>\n",
       "      <td>0</td>\n",
       "    </tr>\n",
       "    <tr>\n",
       "      <th>1</th>\n",
       "      <td>0</td>\n",
       "      <td>0</td>\n",
       "      <td>1</td>\n",
       "      <td>1</td>\n",
       "      <td>0</td>\n",
       "    </tr>\n",
       "    <tr>\n",
       "      <th>2</th>\n",
       "      <td>1</td>\n",
       "      <td>0</td>\n",
       "      <td>0</td>\n",
       "      <td>1</td>\n",
       "      <td>0</td>\n",
       "    </tr>\n",
       "    <tr>\n",
       "      <th>3</th>\n",
       "      <td>1</td>\n",
       "      <td>0</td>\n",
       "      <td>0</td>\n",
       "      <td>1</td>\n",
       "      <td>0</td>\n",
       "    </tr>\n",
       "    <tr>\n",
       "      <th>4</th>\n",
       "      <td>0</td>\n",
       "      <td>0</td>\n",
       "      <td>1</td>\n",
       "      <td>1</td>\n",
       "      <td>0</td>\n",
       "    </tr>\n",
       "  </tbody>\n",
       "</table>\n",
       "</div>"
      ],
      "text/plain": [
       "   Geography_France  Geography_Germany  Geography_Spain  Gender_Female  \\\n",
       "0                 1                  0                0              1   \n",
       "1                 0                  0                1              1   \n",
       "2                 1                  0                0              1   \n",
       "3                 1                  0                0              1   \n",
       "4                 0                  0                1              1   \n",
       "\n",
       "   Gender_Male  \n",
       "0            0  \n",
       "1            0  \n",
       "2            0  \n",
       "3            0  \n",
       "4            0  "
      ]
     },
     "execution_count": 34,
     "metadata": {},
     "output_type": "execute_result"
    }
   ],
   "source": [
    "df_cat.head()"
   ]
  },
  {
   "cell_type": "code",
   "execution_count": 35,
   "id": "5d73593a-4263-4462-ba84-549af819ca33",
   "metadata": {},
   "outputs": [],
   "source": [
    "df = df.drop([\"Geography\",\"Gender\"],axis=1)"
   ]
  },
  {
   "cell_type": "code",
   "execution_count": 36,
   "id": "68986678-42cb-4458-8f4f-eed4dfcbffd8",
   "metadata": {},
   "outputs": [],
   "source": [
    "df = pd.concat([df, df_cat],axis=1)"
   ]
  },
  {
   "cell_type": "code",
   "execution_count": 37,
   "id": "c65ac872-86b2-443e-9b55-e2c1884662da",
   "metadata": {},
   "outputs": [
    {
     "data": {
      "text/html": [
       "<div>\n",
       "<style scoped>\n",
       "    .dataframe tbody tr th:only-of-type {\n",
       "        vertical-align: middle;\n",
       "    }\n",
       "\n",
       "    .dataframe tbody tr th {\n",
       "        vertical-align: top;\n",
       "    }\n",
       "\n",
       "    .dataframe thead th {\n",
       "        text-align: right;\n",
       "    }\n",
       "</style>\n",
       "<table border=\"1\" class=\"dataframe\">\n",
       "  <thead>\n",
       "    <tr style=\"text-align: right;\">\n",
       "      <th></th>\n",
       "      <th>CreditScore</th>\n",
       "      <th>Age</th>\n",
       "      <th>Tenure</th>\n",
       "      <th>Balance</th>\n",
       "      <th>NumOfProducts</th>\n",
       "      <th>HasCrCard</th>\n",
       "      <th>IsActiveMember</th>\n",
       "      <th>EstimatedSalary</th>\n",
       "      <th>Exited</th>\n",
       "      <th>Geography_France</th>\n",
       "      <th>Geography_Germany</th>\n",
       "      <th>Geography_Spain</th>\n",
       "      <th>Gender_Female</th>\n",
       "      <th>Gender_Male</th>\n",
       "    </tr>\n",
       "  </thead>\n",
       "  <tbody>\n",
       "    <tr>\n",
       "      <th>0</th>\n",
       "      <td>619</td>\n",
       "      <td>42</td>\n",
       "      <td>2</td>\n",
       "      <td>0.00</td>\n",
       "      <td>1</td>\n",
       "      <td>1</td>\n",
       "      <td>1</td>\n",
       "      <td>101348.88</td>\n",
       "      <td>1</td>\n",
       "      <td>1</td>\n",
       "      <td>0</td>\n",
       "      <td>0</td>\n",
       "      <td>1</td>\n",
       "      <td>0</td>\n",
       "    </tr>\n",
       "    <tr>\n",
       "      <th>1</th>\n",
       "      <td>608</td>\n",
       "      <td>41</td>\n",
       "      <td>1</td>\n",
       "      <td>83807.86</td>\n",
       "      <td>1</td>\n",
       "      <td>0</td>\n",
       "      <td>1</td>\n",
       "      <td>112542.58</td>\n",
       "      <td>0</td>\n",
       "      <td>0</td>\n",
       "      <td>0</td>\n",
       "      <td>1</td>\n",
       "      <td>1</td>\n",
       "      <td>0</td>\n",
       "    </tr>\n",
       "    <tr>\n",
       "      <th>2</th>\n",
       "      <td>502</td>\n",
       "      <td>42</td>\n",
       "      <td>8</td>\n",
       "      <td>159660.80</td>\n",
       "      <td>3</td>\n",
       "      <td>1</td>\n",
       "      <td>0</td>\n",
       "      <td>113931.57</td>\n",
       "      <td>1</td>\n",
       "      <td>1</td>\n",
       "      <td>0</td>\n",
       "      <td>0</td>\n",
       "      <td>1</td>\n",
       "      <td>0</td>\n",
       "    </tr>\n",
       "    <tr>\n",
       "      <th>3</th>\n",
       "      <td>699</td>\n",
       "      <td>39</td>\n",
       "      <td>1</td>\n",
       "      <td>0.00</td>\n",
       "      <td>2</td>\n",
       "      <td>0</td>\n",
       "      <td>0</td>\n",
       "      <td>93826.63</td>\n",
       "      <td>0</td>\n",
       "      <td>1</td>\n",
       "      <td>0</td>\n",
       "      <td>0</td>\n",
       "      <td>1</td>\n",
       "      <td>0</td>\n",
       "    </tr>\n",
       "    <tr>\n",
       "      <th>4</th>\n",
       "      <td>850</td>\n",
       "      <td>43</td>\n",
       "      <td>2</td>\n",
       "      <td>125510.82</td>\n",
       "      <td>1</td>\n",
       "      <td>1</td>\n",
       "      <td>1</td>\n",
       "      <td>79084.10</td>\n",
       "      <td>0</td>\n",
       "      <td>0</td>\n",
       "      <td>0</td>\n",
       "      <td>1</td>\n",
       "      <td>1</td>\n",
       "      <td>0</td>\n",
       "    </tr>\n",
       "  </tbody>\n",
       "</table>\n",
       "</div>"
      ],
      "text/plain": [
       "   CreditScore  Age  Tenure    Balance  NumOfProducts  HasCrCard  \\\n",
       "0          619   42       2       0.00              1          1   \n",
       "1          608   41       1   83807.86              1          0   \n",
       "2          502   42       8  159660.80              3          1   \n",
       "3          699   39       1       0.00              2          0   \n",
       "4          850   43       2  125510.82              1          1   \n",
       "\n",
       "   IsActiveMember  EstimatedSalary  Exited  Geography_France  \\\n",
       "0               1        101348.88       1                 1   \n",
       "1               1        112542.58       0                 0   \n",
       "2               0        113931.57       1                 1   \n",
       "3               0         93826.63       0                 1   \n",
       "4               1         79084.10       0                 0   \n",
       "\n",
       "   Geography_Germany  Geography_Spain  Gender_Female  Gender_Male  \n",
       "0                  0                0              1            0  \n",
       "1                  0                1              1            0  \n",
       "2                  0                0              1            0  \n",
       "3                  0                0              1            0  \n",
       "4                  0                1              1            0  "
      ]
     },
     "execution_count": 37,
     "metadata": {},
     "output_type": "execute_result"
    }
   ],
   "source": [
    "df.head()"
   ]
  },
  {
   "cell_type": "code",
   "execution_count": 38,
   "id": "c9646465-f992-4f51-b82d-12c3aed00c38",
   "metadata": {},
   "outputs": [
    {
     "name": "stdout",
     "output_type": "stream",
     "text": [
      "<class 'pandas.core.frame.DataFrame'>\n",
      "RangeIndex: 9994 entries, 0 to 9993\n",
      "Data columns (total 14 columns):\n",
      " #   Column             Non-Null Count  Dtype  \n",
      "---  ------             --------------  -----  \n",
      " 0   CreditScore        9994 non-null   int64  \n",
      " 1   Age                9994 non-null   int64  \n",
      " 2   Tenure             9994 non-null   int64  \n",
      " 3   Balance            9994 non-null   float64\n",
      " 4   NumOfProducts      9994 non-null   int64  \n",
      " 5   HasCrCard          9994 non-null   int64  \n",
      " 6   IsActiveMember     9994 non-null   int64  \n",
      " 7   EstimatedSalary    9994 non-null   float64\n",
      " 8   Exited             9994 non-null   int64  \n",
      " 9   Geography_France   9994 non-null   uint8  \n",
      " 10  Geography_Germany  9994 non-null   uint8  \n",
      " 11  Geography_Spain    9994 non-null   uint8  \n",
      " 12  Gender_Female      9994 non-null   uint8  \n",
      " 13  Gender_Male        9994 non-null   uint8  \n",
      "dtypes: float64(2), int64(7), uint8(5)\n",
      "memory usage: 751.6 KB\n"
     ]
    }
   ],
   "source": [
    "df.info()"
   ]
  },
  {
   "cell_type": "markdown",
   "id": "d7fb8d55-bee8-4658-9c61-ba989e4e7882",
   "metadata": {},
   "source": [
    "#### Veri setinin bilgileri incelendi ve bütün veri tiplerinin sayısal olduğu görüldü.\n"
   ]
  },
  {
   "cell_type": "markdown",
   "id": "215b2162-a8b7-4c19-8fd4-ac559a616212",
   "metadata": {},
   "source": [
    "## Model"
   ]
  },
  {
   "cell_type": "code",
   "execution_count": 39,
   "id": "493d6630-ccea-49db-b866-3a6ee0701dd4",
   "metadata": {},
   "outputs": [],
   "source": [
    "X = df.drop([\"Exited\"],axis=1)"
   ]
  },
  {
   "cell_type": "code",
   "execution_count": 40,
   "id": "725d94a0-5c7f-4145-ab84-ad486fe0fc73",
   "metadata": {},
   "outputs": [],
   "source": [
    "y = df[\"Exited\"]"
   ]
  },
  {
   "cell_type": "code",
   "execution_count": 41,
   "id": "7ddbf382-f70d-4871-b43f-6d8edd08dc79",
   "metadata": {},
   "outputs": [],
   "source": [
    "X_train, X_test, y_train, y_test = train_test_split(X,y,\n",
    "                                                   test_size = 0.3,\n",
    "                                                   random_state=42)"
   ]
  },
  {
   "cell_type": "markdown",
   "id": "314a3eb3-1fec-4748-8c49-bddd4841186c",
   "metadata": {},
   "source": [
    "#### Veri seti eğitim seti ve test seti olarak ikiye ayrıldı."
   ]
  },
  {
   "cell_type": "code",
   "execution_count": 42,
   "id": "a3ace795-ec4a-460f-9123-7ef7333d0031",
   "metadata": {},
   "outputs": [
    {
     "name": "stderr",
     "output_type": "stream",
     "text": [
      "C:\\Users\\Lenovo\\anaconda3\\lib\\site-packages\\xgboost\\sklearn.py:1224: UserWarning: The use of label encoder in XGBClassifier is deprecated and will be removed in a future release. To remove this warning, do the following: 1) Pass option use_label_encoder=False when constructing XGBClassifier object; and 2) Encode your labels (y) as integers starting with 0, i.e. 0, 1, 2, ..., [num_class - 1].\n",
      "  warnings.warn(label_encoder_deprecation_msg, UserWarning)\n"
     ]
    },
    {
     "name": "stdout",
     "output_type": "stream",
     "text": [
      "[17:03:31] WARNING: C:/Users/Administrator/workspace/xgboost-win64_release_1.5.0/src/learner.cc:1115: Starting in XGBoost 1.3.0, the default evaluation metric used with the objective 'binary:logistic' was changed from 'error' to 'logloss'. Explicitly set eval_metric if you'd like to restore the old behavior.\n"
     ]
    }
   ],
   "source": [
    "knn_model = KNeighborsClassifier().fit(X_train,y_train)\n",
    "loj_model = LogisticRegression().fit(X_train,y_train)\n",
    "svm_model = SVC().fit(X_train,y_train)\n",
    "cart_model = DecisionTreeClassifier().fit(X_train,y_train)\n",
    "rf_model = RandomForestClassifier().fit(X_train,y_train)\n",
    "gbm_model = GradientBoostingClassifier().fit(X_train,y_train)\n",
    "catb_model = CatBoostClassifier().fit(X_train,y_train,verbose=False)\n",
    "lgbm_model = LGBMClassifier().fit(X_train,y_train)\n",
    "xgb_model = XGBClassifier().fit(X_train,y_train)"
   ]
  },
  {
   "cell_type": "code",
   "execution_count": 43,
   "id": "d0595821-783e-4ecd-9ba1-3c5c7f68b63c",
   "metadata": {},
   "outputs": [],
   "source": [
    "Modeller = [\n",
    "    knn_model,\n",
    "    loj_model,\n",
    "    svm_model,\n",
    "    cart_model,\n",
    "    rf_model,\n",
    "    gbm_model,\n",
    "    catb_model,\n",
    "    lgbm_model,\n",
    "    xgb_model\n",
    "]\n",
    "sonuc = []\n",
    "sonuclar = pd.DataFrame(columns = [\"Modeller\",\"Accuracy\"])\n",
    "\n",
    "for model in Modeller:\n",
    "    isimler = model.__class__.__name__\n",
    "    y_pred = model.predict(X_test)\n",
    "    dogruluk = accuracy_score(y_test,y_pred)\n",
    "    sonuc = pd.DataFrame([[isimler,dogruluk*100]],columns = [\"Modeller\",\"Accuracy\"])\n",
    "    sonuclar = sonuclar.append(sonuc)"
   ]
  },
  {
   "cell_type": "markdown",
   "id": "081abd87-bfb4-4779-8095-cb09015f2b14",
   "metadata": {},
   "source": [
    "#### Her modelin doğruluk oranı hesaplandı."
   ]
  },
  {
   "cell_type": "code",
   "execution_count": 44,
   "id": "188a0863-1a68-407c-b73c-cbbab32a3fe1",
   "metadata": {},
   "outputs": [
    {
     "data": {
      "image/png": "[encoded data removed]",
      "text/plain": [
       "<Figure size 432x288 with 1 Axes>"
      ]
     },
     "metadata": {
      "needs_background": "light"
     },
     "output_type": "display_data"
    }
   ],
   "source": [
    "sns.barplot(x ='Accuracy', y ='Modeller',data=sonuclar,color=\"r\" )\n",
    "plt.xlabel('Accuracy %') \n",
    "plt.title('Modellerin Doğruluk Oranı');"
   ]
  },
  {
   "cell_type": "code",
   "execution_count": 45,
   "id": "82d64fe1-9d46-4280-807f-62607de09d89",
   "metadata": {
    "tags": []
   },
   "outputs": [
    {
     "data": {
      "text/html": [
       "<div>\n",
       "<style scoped>\n",
       "    .dataframe tbody tr th:only-of-type {\n",
       "        vertical-align: middle;\n",
       "    }\n",
       "\n",
       "    .dataframe tbody tr th {\n",
       "        vertical-align: top;\n",
       "    }\n",
       "\n",
       "    .dataframe thead th {\n",
       "        text-align: right;\n",
       "    }\n",
       "</style>\n",
       "<table border=\"1\" class=\"dataframe\">\n",
       "  <thead>\n",
       "    <tr style=\"text-align: right;\">\n",
       "      <th></th>\n",
       "      <th>Modeller</th>\n",
       "      <th>Accuracy</th>\n",
       "    </tr>\n",
       "  </thead>\n",
       "  <tbody>\n",
       "    <tr>\n",
       "      <th>0</th>\n",
       "      <td>KNeighborsClassifier</td>\n",
       "      <td>77.792598</td>\n",
       "    </tr>\n",
       "    <tr>\n",
       "      <th>0</th>\n",
       "      <td>LogisticRegression</td>\n",
       "      <td>80.193398</td>\n",
       "    </tr>\n",
       "    <tr>\n",
       "      <th>0</th>\n",
       "      <td>SVC</td>\n",
       "      <td>80.826942</td>\n",
       "    </tr>\n",
       "    <tr>\n",
       "      <th>0</th>\n",
       "      <td>DecisionTreeClassifier</td>\n",
       "      <td>79.726576</td>\n",
       "    </tr>\n",
       "    <tr>\n",
       "      <th>0</th>\n",
       "      <td>RandomForestClassifier</td>\n",
       "      <td>87.529176</td>\n",
       "    </tr>\n",
       "    <tr>\n",
       "      <th>0</th>\n",
       "      <td>GradientBoostingClassifier</td>\n",
       "      <td>87.195732</td>\n",
       "    </tr>\n",
       "    <tr>\n",
       "      <th>0</th>\n",
       "      <td>CatBoostClassifier</td>\n",
       "      <td>87.729243</td>\n",
       "    </tr>\n",
       "    <tr>\n",
       "      <th>0</th>\n",
       "      <td>LGBMClassifier</td>\n",
       "      <td>87.129043</td>\n",
       "    </tr>\n",
       "    <tr>\n",
       "      <th>0</th>\n",
       "      <td>XGBClassifier</td>\n",
       "      <td>86.628876</td>\n",
       "    </tr>\n",
       "  </tbody>\n",
       "</table>\n",
       "</div>"
      ],
      "text/plain": [
       "                     Modeller   Accuracy\n",
       "0        KNeighborsClassifier  77.792598\n",
       "0          LogisticRegression  80.193398\n",
       "0                         SVC  80.826942\n",
       "0      DecisionTreeClassifier  79.726576\n",
       "0      RandomForestClassifier  87.529176\n",
       "0  GradientBoostingClassifier  87.195732\n",
       "0          CatBoostClassifier  87.729243\n",
       "0              LGBMClassifier  87.129043\n",
       "0               XGBClassifier  86.628876"
      ]
     },
     "execution_count": 45,
     "metadata": {},
     "output_type": "execute_result"
    }
   ],
   "source": [
    "sonuclar[:]"
   ]
  },
  {
   "cell_type": "markdown",
   "id": "93181b28-5182-462e-b329-7e105639fb26",
   "metadata": {},
   "source": [
    "#### Modellerin doğruluk oranları grafiklendirilerek en yüksek doğruluk oranına sahip olan model seçildi.\n",
    "#### **CatBoost**: 87.729 değeri ile en yüksek doğruluk oranına sahiptir."
   ]
  },
  {
   "cell_type": "markdown",
   "id": "d745e9b1-5d9c-4941-998a-d080d5aa2243",
   "metadata": {},
   "source": [
    "## Model Tuning"
   ]
  },
  {
   "cell_type": "markdown",
   "id": "c9240b0d-0b80-46b8-9998-4aa21d81406a",
   "metadata": {},
   "source": [
    "#### Model tahmin performansını arttırmak için hiperparametre optimizasyonu yapılmasıdır."
   ]
  },
  {
   "cell_type": "code",
   "execution_count": 46,
   "id": "3c1e8322-241d-4490-9637-cc7ad477aa43",
   "metadata": {},
   "outputs": [],
   "source": [
    "catb = CatBoostClassifier()"
   ]
  },
  {
   "cell_type": "code",
   "execution_count": 47,
   "id": "bbf22aec-2446-45f3-ab3d-e134c98d5e23",
   "metadata": {},
   "outputs": [],
   "source": [
    "catb_params = {\"iterations\":[200,500,100],\n",
    "              \"learning_rate\":[0.01,0.03,0.1],\n",
    "              \"depth\":[4,5,6,8]}"
   ]
  },
  {
   "cell_type": "code",
   "execution_count": 48,
   "id": "eb54bbe8-eda3-4060-8b50-07bc1bdec8c9",
   "metadata": {
    "collapsed": true,
    "jupyter": {
     "outputs_hidden": true
    },
    "tags": []
   },
   "outputs": [
    {
     "name": "stdout",
     "output_type": "stream",
     "text": [
      "Fitting 10 folds for each of 36 candidates, totalling 360 fits\n",
      "0:\tlearn: 0.6703402\ttotal: 3.13ms\tremaining: 1.56s\n",
      "1:\tlearn: 0.6492412\ttotal: 6.21ms\tremaining: 1.55s\n",
      "2:\tlearn: 0.6303385\ttotal: 9.37ms\tremaining: 1.55s\n",
      "3:\tlearn: 0.6124623\ttotal: 12.6ms\tremaining: 1.56s\n",
      "4:\tlearn: 0.5991323\ttotal: 15.8ms\tremaining: 1.56s\n",
      "5:\tlearn: 0.5847982\ttotal: 18.9ms\tremaining: 1.55s\n",
      "6:\tlearn: 0.5719726\ttotal: 22.3ms\tremaining: 1.57s\n",
      "7:\tlearn: 0.5580569\ttotal: 25.9ms\tremaining: 1.59s\n",
      "8:\tlearn: 0.5469431\ttotal: 29.4ms\tremaining: 1.6s\n",
      "9:\tlearn: 0.5343227\ttotal: 32.6ms\tremaining: 1.6s\n",
      "10:\tlearn: 0.5233892\ttotal: 35.8ms\tremaining: 1.59s\n",
      "11:\tlearn: 0.5153886\ttotal: 39ms\tremaining: 1.59s\n",
      "12:\tlearn: 0.5069256\ttotal: 42.2ms\tremaining: 1.58s\n",
      "13:\tlearn: 0.4995662\ttotal: 45.4ms\tremaining: 1.57s\n",
      "14:\tlearn: 0.4905758\ttotal: 48.6ms\tremaining: 1.57s\n",
      "15:\tlearn: 0.4830382\ttotal: 51.8ms\tremaining: 1.57s\n",
      "16:\tlearn: 0.4766539\ttotal: 55.1ms\tremaining: 1.56s\n",
      "17:\tlearn: 0.4697096\ttotal: 58.4ms\tremaining: 1.56s\n",
      "18:\tlearn: 0.4636411\ttotal: 61.6ms\tremaining: 1.56s\n",
      "19:\tlearn: 0.4573929\ttotal: 64.9ms\tremaining: 1.56s\n",
      "20:\tlearn: 0.4513903\ttotal: 68.2ms\tremaining: 1.55s\n",
      "21:\tlearn: 0.4468879\ttotal: 71.2ms\tremaining: 1.55s\n",
      "22:\tlearn: 0.4419919\ttotal: 74.3ms\tremaining: 1.54s\n",
      "23:\tlearn: 0.4372678\ttotal: 77.5ms\tremaining: 1.54s\n",
      "24:\tlearn: 0.4324167\ttotal: 80.6ms\tremaining: 1.53s\n",
      "25:\tlearn: 0.4289747\ttotal: 83.6ms\tremaining: 1.52s\n",
      "26:\tlearn: 0.4255345\ttotal: 86.9ms\tremaining: 1.52s\n",
      "27:\tlearn: 0.4227157\ttotal: 90ms\tremaining: 1.52s\n",
      "28:\tlearn: 0.4199513\ttotal: 93.2ms\tremaining: 1.51s\n",
      "29:\tlearn: 0.4164303\ttotal: 96.4ms\tremaining: 1.51s\n",
      "30:\tlearn: 0.4139112\ttotal: 99.7ms\tremaining: 1.51s\n",
      "31:\tlearn: 0.4106024\ttotal: 103ms\tremaining: 1.51s\n",
      "32:\tlearn: 0.4081127\ttotal: 106ms\tremaining: 1.5s\n",
      "33:\tlearn: 0.4051759\ttotal: 109ms\tremaining: 1.5s\n",
      "34:\tlearn: 0.4021217\ttotal: 113ms\tremaining: 1.5s\n",
      "35:\tlearn: 0.4003459\ttotal: 116ms\tremaining: 1.49s\n",
      "36:\tlearn: 0.3977021\ttotal: 119ms\tremaining: 1.5s\n",
      "37:\tlearn: 0.3952363\ttotal: 123ms\tremaining: 1.5s\n",
      "38:\tlearn: 0.3935926\ttotal: 127ms\tremaining: 1.5s\n",
      "39:\tlearn: 0.3919940\ttotal: 130ms\tremaining: 1.5s\n",
      "40:\tlearn: 0.3903093\ttotal: 134ms\tremaining: 1.5s\n",
      "41:\tlearn: 0.3883855\ttotal: 137ms\tremaining: 1.49s\n",
      "42:\tlearn: 0.3867074\ttotal: 140ms\tremaining: 1.49s\n",
      "43:\tlearn: 0.3850841\ttotal: 144ms\tremaining: 1.49s\n",
      "44:\tlearn: 0.3833982\ttotal: 147ms\tremaining: 1.49s\n",
      "45:\tlearn: 0.3814626\ttotal: 150ms\tremaining: 1.48s\n",
      "46:\tlearn: 0.3805273\ttotal: 153ms\tremaining: 1.48s\n",
      "47:\tlearn: 0.3794518\ttotal: 157ms\tremaining: 1.47s\n",
      "48:\tlearn: 0.3784100\ttotal: 160ms\tremaining: 1.47s\n",
      "49:\tlearn: 0.3771809\ttotal: 163ms\tremaining: 1.47s\n",
      "50:\tlearn: 0.3757042\ttotal: 166ms\tremaining: 1.46s\n",
      "51:\tlearn: 0.3745963\ttotal: 169ms\tremaining: 1.46s\n",
      "52:\tlearn: 0.3738100\ttotal: 172ms\tremaining: 1.45s\n",
      "53:\tlearn: 0.3728181\ttotal: 176ms\tremaining: 1.45s\n",
      "54:\tlearn: 0.3712318\ttotal: 180ms\tremaining: 1.46s\n",
      "55:\tlearn: 0.3700781\ttotal: 184ms\tremaining: 1.46s\n",
      "56:\tlearn: 0.3691065\ttotal: 187ms\tremaining: 1.46s\n",
      "57:\tlearn: 0.3683303\ttotal: 191ms\tremaining: 1.45s\n",
      "58:\tlearn: 0.3675274\ttotal: 194ms\tremaining: 1.45s\n",
      "59:\tlearn: 0.3668815\ttotal: 198ms\tremaining: 1.45s\n",
      "60:\tlearn: 0.3662341\ttotal: 201ms\tremaining: 1.45s\n",
      "61:\tlearn: 0.3655899\ttotal: 204ms\tremaining: 1.44s\n",
      "62:\tlearn: 0.3650343\ttotal: 207ms\tremaining: 1.44s\n",
      "63:\tlearn: 0.3643151\ttotal: 212ms\tremaining: 1.44s\n",
      "64:\tlearn: 0.3637331\ttotal: 217ms\tremaining: 1.45s\n",
      "65:\tlearn: 0.3633876\ttotal: 220ms\tremaining: 1.45s\n",
      "66:\tlearn: 0.3622659\ttotal: 224ms\tremaining: 1.45s\n",
      "67:\tlearn: 0.3616456\ttotal: 229ms\tremaining: 1.45s\n",
      "68:\tlearn: 0.3609365\ttotal: 232ms\tremaining: 1.45s\n",
      "69:\tlearn: 0.3604573\ttotal: 236ms\tremaining: 1.45s\n",
      "70:\tlearn: 0.3601853\ttotal: 239ms\tremaining: 1.45s\n",
      "71:\tlearn: 0.3594899\ttotal: 243ms\tremaining: 1.44s\n",
      "72:\tlearn: 0.3591645\ttotal: 246ms\tremaining: 1.44s\n",
      "73:\tlearn: 0.3588445\ttotal: 249ms\tremaining: 1.44s\n",
      "74:\tlearn: 0.3580425\ttotal: 253ms\tremaining: 1.43s\n",
      "75:\tlearn: 0.3570277\ttotal: 256ms\tremaining: 1.43s\n",
      "76:\tlearn: 0.3565940\ttotal: 260ms\tremaining: 1.43s\n",
      "77:\tlearn: 0.3559948\ttotal: 263ms\tremaining: 1.42s\n",
      "78:\tlearn: 0.3555833\ttotal: 266ms\tremaining: 1.42s\n",
      "79:\tlearn: 0.3550241\ttotal: 270ms\tremaining: 1.42s\n",
      "80:\tlearn: 0.3546189\ttotal: 273ms\tremaining: 1.41s\n",
      "81:\tlearn: 0.3537560\ttotal: 277ms\tremaining: 1.41s\n",
      "82:\tlearn: 0.3529680\ttotal: 280ms\tremaining: 1.41s\n",
      "83:\tlearn: 0.3526792\ttotal: 284ms\tremaining: 1.4s\n",
      "84:\tlearn: 0.3522471\ttotal: 287ms\tremaining: 1.4s\n",
      "85:\tlearn: 0.3517880\ttotal: 290ms\tremaining: 1.4s\n",
      "86:\tlearn: 0.3513387\ttotal: 294ms\tremaining: 1.39s\n",
      "87:\tlearn: 0.3510609\ttotal: 297ms\tremaining: 1.39s\n",
      "88:\tlearn: 0.3504403\ttotal: 300ms\tremaining: 1.39s\n",
      "89:\tlearn: 0.3500593\ttotal: 304ms\tremaining: 1.38s\n",
      "90:\tlearn: 0.3497051\ttotal: 307ms\tremaining: 1.38s\n",
      "91:\tlearn: 0.3493576\ttotal: 311ms\tremaining: 1.38s\n",
      "92:\tlearn: 0.3491029\ttotal: 314ms\tremaining: 1.37s\n",
      "93:\tlearn: 0.3487286\ttotal: 318ms\tremaining: 1.37s\n",
      "94:\tlearn: 0.3481396\ttotal: 321ms\tremaining: 1.37s\n",
      "95:\tlearn: 0.3479138\ttotal: 324ms\tremaining: 1.36s\n",
      "96:\tlearn: 0.3475891\ttotal: 328ms\tremaining: 1.36s\n",
      "97:\tlearn: 0.3473728\ttotal: 331ms\tremaining: 1.36s\n",
      "98:\tlearn: 0.3469155\ttotal: 335ms\tremaining: 1.35s\n",
      "99:\tlearn: 0.3465595\ttotal: 338ms\tremaining: 1.35s\n",
      "100:\tlearn: 0.3463617\ttotal: 342ms\tremaining: 1.35s\n",
      "101:\tlearn: 0.3460019\ttotal: 345ms\tremaining: 1.34s\n",
      "102:\tlearn: 0.3454849\ttotal: 349ms\tremaining: 1.34s\n",
      "103:\tlearn: 0.3453141\ttotal: 352ms\tremaining: 1.34s\n",
      "104:\tlearn: 0.3450436\ttotal: 356ms\tremaining: 1.34s\n",
      "105:\tlearn: 0.3447400\ttotal: 360ms\tremaining: 1.34s\n",
      "106:\tlearn: 0.3445613\ttotal: 363ms\tremaining: 1.33s\n",
      "107:\tlearn: 0.3443739\ttotal: 367ms\tremaining: 1.33s\n",
      "108:\tlearn: 0.3442389\ttotal: 370ms\tremaining: 1.33s\n",
      "109:\tlearn: 0.3440097\ttotal: 374ms\tremaining: 1.33s\n",
      "110:\tlearn: 0.3438509\ttotal: 378ms\tremaining: 1.32s\n",
      "111:\tlearn: 0.3434701\ttotal: 382ms\tremaining: 1.32s\n",
      "112:\tlearn: 0.3429578\ttotal: 385ms\tremaining: 1.32s\n",
      "113:\tlearn: 0.3426464\ttotal: 389ms\tremaining: 1.31s\n",
      "114:\tlearn: 0.3424992\ttotal: 392ms\tremaining: 1.31s\n",
      "115:\tlearn: 0.3423094\ttotal: 395ms\tremaining: 1.31s\n",
      "116:\tlearn: 0.3420962\ttotal: 399ms\tremaining: 1.31s\n",
      "117:\tlearn: 0.3418714\ttotal: 402ms\tremaining: 1.3s\n",
      "118:\tlearn: 0.3415569\ttotal: 406ms\tremaining: 1.3s\n",
      "119:\tlearn: 0.3413231\ttotal: 409ms\tremaining: 1.29s\n",
      "120:\tlearn: 0.3410993\ttotal: 412ms\tremaining: 1.29s\n",
      "121:\tlearn: 0.3408387\ttotal: 415ms\tremaining: 1.28s\n",
      "122:\tlearn: 0.3406015\ttotal: 418ms\tremaining: 1.28s\n",
      "123:\tlearn: 0.3403931\ttotal: 421ms\tremaining: 1.28s\n",
      "124:\tlearn: 0.3401048\ttotal: 425ms\tremaining: 1.27s\n",
      "125:\tlearn: 0.3398773\ttotal: 428ms\tremaining: 1.27s\n",
      "126:\tlearn: 0.3397375\ttotal: 431ms\tremaining: 1.27s\n",
      "127:\tlearn: 0.3395495\ttotal: 434ms\tremaining: 1.26s\n",
      "128:\tlearn: 0.3392982\ttotal: 437ms\tremaining: 1.26s\n",
      "129:\tlearn: 0.3391438\ttotal: 441ms\tremaining: 1.25s\n",
      "130:\tlearn: 0.3389220\ttotal: 444ms\tremaining: 1.25s\n",
      "131:\tlearn: 0.3386681\ttotal: 447ms\tremaining: 1.25s\n",
      "132:\tlearn: 0.3385145\ttotal: 450ms\tremaining: 1.24s\n",
      "133:\tlearn: 0.3383838\ttotal: 453ms\tremaining: 1.24s\n",
      "134:\tlearn: 0.3382206\ttotal: 456ms\tremaining: 1.23s\n",
      "135:\tlearn: 0.3381077\ttotal: 459ms\tremaining: 1.23s\n",
      "136:\tlearn: 0.3379764\ttotal: 462ms\tremaining: 1.22s\n",
      "137:\tlearn: 0.3377673\ttotal: 465ms\tremaining: 1.22s\n",
      "138:\tlearn: 0.3376424\ttotal: 468ms\tremaining: 1.22s\n",
      "139:\tlearn: 0.3372895\ttotal: 471ms\tremaining: 1.21s\n",
      "140:\tlearn: 0.3370393\ttotal: 474ms\tremaining: 1.21s\n",
      "141:\tlearn: 0.3368555\ttotal: 477ms\tremaining: 1.2s\n",
      "142:\tlearn: 0.3366873\ttotal: 480ms\tremaining: 1.2s\n",
      "143:\tlearn: 0.3365639\ttotal: 483ms\tremaining: 1.19s\n",
      "144:\tlearn: 0.3364179\ttotal: 486ms\tremaining: 1.19s\n",
      "145:\tlearn: 0.3363074\ttotal: 489ms\tremaining: 1.19s\n",
      "146:\tlearn: 0.3361595\ttotal: 492ms\tremaining: 1.18s\n",
      "147:\tlearn: 0.3360258\ttotal: 495ms\tremaining: 1.18s\n",
      "148:\tlearn: 0.3357052\ttotal: 498ms\tremaining: 1.17s\n",
      "149:\tlearn: 0.3354205\ttotal: 501ms\tremaining: 1.17s\n",
      "150:\tlearn: 0.3352554\ttotal: 504ms\tremaining: 1.16s\n",
      "151:\tlearn: 0.3349795\ttotal: 507ms\tremaining: 1.16s\n",
      "152:\tlearn: 0.3347224\ttotal: 510ms\tremaining: 1.16s\n",
      "153:\tlearn: 0.3345264\ttotal: 513ms\tremaining: 1.15s\n",
      "154:\tlearn: 0.3343540\ttotal: 516ms\tremaining: 1.15s\n",
      "155:\tlearn: 0.3341128\ttotal: 519ms\tremaining: 1.14s\n",
      "156:\tlearn: 0.3340041\ttotal: 522ms\tremaining: 1.14s\n",
      "157:\tlearn: 0.3338780\ttotal: 525ms\tremaining: 1.14s\n",
      "158:\tlearn: 0.3336979\ttotal: 529ms\tremaining: 1.13s\n",
      "159:\tlearn: 0.3334828\ttotal: 533ms\tremaining: 1.13s\n",
      "160:\tlearn: 0.3333905\ttotal: 536ms\tremaining: 1.13s\n",
      "161:\tlearn: 0.3331386\ttotal: 539ms\tremaining: 1.12s\n",
      "162:\tlearn: 0.3329892\ttotal: 542ms\tremaining: 1.12s\n",
      "163:\tlearn: 0.3328999\ttotal: 545ms\tremaining: 1.12s\n",
      "164:\tlearn: 0.3327656\ttotal: 549ms\tremaining: 1.11s\n",
      "165:\tlearn: 0.3325504\ttotal: 552ms\tremaining: 1.11s\n",
      "166:\tlearn: 0.3322442\ttotal: 557ms\tremaining: 1.11s\n",
      "167:\tlearn: 0.3321061\ttotal: 560ms\tremaining: 1.11s\n",
      "168:\tlearn: 0.3319019\ttotal: 563ms\tremaining: 1.1s\n",
      "169:\tlearn: 0.3318241\ttotal: 566ms\tremaining: 1.1s\n",
      "170:\tlearn: 0.3315781\ttotal: 569ms\tremaining: 1.09s\n",
      "171:\tlearn: 0.3314983\ttotal: 572ms\tremaining: 1.09s\n",
      "172:\tlearn: 0.3313996\ttotal: 575ms\tremaining: 1.09s\n",
      "173:\tlearn: 0.3312318\ttotal: 578ms\tremaining: 1.08s\n",
      "174:\tlearn: 0.3309206\ttotal: 582ms\tremaining: 1.08s\n",
      "175:\tlearn: 0.3307900\ttotal: 585ms\tremaining: 1.08s\n",
      "176:\tlearn: 0.3306924\ttotal: 588ms\tremaining: 1.07s\n",
      "177:\tlearn: 0.3305450\ttotal: 591ms\tremaining: 1.07s\n",
      "178:\tlearn: 0.3303820\ttotal: 594ms\tremaining: 1.06s\n",
      "179:\tlearn: 0.3303033\ttotal: 597ms\tremaining: 1.06s\n",
      "180:\tlearn: 0.3301942\ttotal: 600ms\tremaining: 1.06s\n",
      "181:\tlearn: 0.3301224\ttotal: 603ms\tremaining: 1.05s\n",
      "182:\tlearn: 0.3300407\ttotal: 606ms\tremaining: 1.05s\n",
      "183:\tlearn: 0.3299426\ttotal: 609ms\tremaining: 1.04s\n",
      "184:\tlearn: 0.3298592\ttotal: 612ms\tremaining: 1.04s\n",
      "185:\tlearn: 0.3297781\ttotal: 615ms\tremaining: 1.04s\n",
      "186:\tlearn: 0.3296757\ttotal: 618ms\tremaining: 1.03s\n",
      "187:\tlearn: 0.3295107\ttotal: 621ms\tremaining: 1.03s\n",
      "188:\tlearn: 0.3294424\ttotal: 624ms\tremaining: 1.03s\n",
      "189:\tlearn: 0.3292752\ttotal: 627ms\tremaining: 1.02s\n",
      "190:\tlearn: 0.3291499\ttotal: 630ms\tremaining: 1.02s\n",
      "191:\tlearn: 0.3290557\ttotal: 633ms\tremaining: 1.01s\n",
      "192:\tlearn: 0.3288433\ttotal: 636ms\tremaining: 1.01s\n",
      "193:\tlearn: 0.3287036\ttotal: 639ms\tremaining: 1.01s\n",
      "194:\tlearn: 0.3286103\ttotal: 642ms\tremaining: 1s\n",
      "195:\tlearn: 0.3284808\ttotal: 645ms\tremaining: 1s\n",
      "196:\tlearn: 0.3283398\ttotal: 649ms\tremaining: 998ms\n",
      "197:\tlearn: 0.3282881\ttotal: 652ms\tremaining: 994ms\n",
      "198:\tlearn: 0.3282346\ttotal: 655ms\tremaining: 990ms\n",
      "199:\tlearn: 0.3281722\ttotal: 658ms\tremaining: 987ms\n",
      "200:\tlearn: 0.3280762\ttotal: 661ms\tremaining: 983ms\n",
      "201:\tlearn: 0.3279032\ttotal: 664ms\tremaining: 979ms\n",
      "202:\tlearn: 0.3277649\ttotal: 667ms\tremaining: 976ms\n",
      "203:\tlearn: 0.3276894\ttotal: 670ms\tremaining: 972ms\n",
      "204:\tlearn: 0.3274994\ttotal: 673ms\tremaining: 969ms\n",
      "205:\tlearn: 0.3274277\ttotal: 676ms\tremaining: 965ms\n",
      "206:\tlearn: 0.3273492\ttotal: 679ms\tremaining: 962ms\n",
      "207:\tlearn: 0.3272626\ttotal: 683ms\tremaining: 958ms\n",
      "208:\tlearn: 0.3271669\ttotal: 686ms\tremaining: 955ms\n",
      "209:\tlearn: 0.3271468\ttotal: 688ms\tremaining: 950ms\n",
      "210:\tlearn: 0.3269771\ttotal: 691ms\tremaining: 947ms\n",
      "211:\tlearn: 0.3268203\ttotal: 694ms\tremaining: 943ms\n",
      "212:\tlearn: 0.3267473\ttotal: 697ms\tremaining: 940ms\n",
      "213:\tlearn: 0.3266043\ttotal: 701ms\tremaining: 936ms\n",
      "214:\tlearn: 0.3265111\ttotal: 704ms\tremaining: 934ms\n",
      "215:\tlearn: 0.3264382\ttotal: 708ms\tremaining: 931ms\n",
      "216:\tlearn: 0.3263539\ttotal: 712ms\tremaining: 928ms\n",
      "217:\tlearn: 0.3262797\ttotal: 715ms\tremaining: 925ms\n",
      "218:\tlearn: 0.3261879\ttotal: 718ms\tremaining: 922ms\n",
      "219:\tlearn: 0.3260545\ttotal: 722ms\tremaining: 919ms\n",
      "220:\tlearn: 0.3259218\ttotal: 725ms\tremaining: 916ms\n",
      "221:\tlearn: 0.3258454\ttotal: 729ms\tremaining: 913ms\n",
      "222:\tlearn: 0.3257234\ttotal: 733ms\tremaining: 911ms\n",
      "223:\tlearn: 0.3255691\ttotal: 737ms\tremaining: 908ms\n",
      "224:\tlearn: 0.3255209\ttotal: 740ms\tremaining: 904ms\n",
      "225:\tlearn: 0.3253925\ttotal: 743ms\tremaining: 901ms\n",
      "226:\tlearn: 0.3252605\ttotal: 746ms\tremaining: 897ms\n",
      "227:\tlearn: 0.3251736\ttotal: 749ms\tremaining: 894ms\n",
      "228:\tlearn: 0.3251117\ttotal: 753ms\tremaining: 891ms\n",
      "229:\tlearn: 0.3250579\ttotal: 756ms\tremaining: 887ms\n",
      "230:\tlearn: 0.3249575\ttotal: 759ms\tremaining: 883ms\n",
      "231:\tlearn: 0.3248529\ttotal: 762ms\tremaining: 880ms\n",
      "232:\tlearn: 0.3247896\ttotal: 764ms\tremaining: 876ms\n",
      "233:\tlearn: 0.3247326\ttotal: 767ms\tremaining: 872ms\n",
      "234:\tlearn: 0.3245519\ttotal: 770ms\tremaining: 869ms\n",
      "235:\tlearn: 0.3244714\ttotal: 773ms\tremaining: 865ms\n",
      "236:\tlearn: 0.3243981\ttotal: 776ms\tremaining: 861ms\n",
      "237:\tlearn: 0.3242789\ttotal: 779ms\tremaining: 858ms\n",
      "238:\tlearn: 0.3242334\ttotal: 782ms\tremaining: 854ms\n",
      "239:\tlearn: 0.3240690\ttotal: 786ms\tremaining: 851ms\n",
      "240:\tlearn: 0.3239550\ttotal: 789ms\tremaining: 848ms\n",
      "241:\tlearn: 0.3238262\ttotal: 792ms\tremaining: 844ms\n",
      "242:\tlearn: 0.3237821\ttotal: 796ms\tremaining: 841ms\n",
      "243:\tlearn: 0.3236805\ttotal: 799ms\tremaining: 838ms\n",
      "244:\tlearn: 0.3235826\ttotal: 802ms\tremaining: 835ms\n",
      "245:\tlearn: 0.3234909\ttotal: 806ms\tremaining: 832ms\n",
      "246:\tlearn: 0.3233514\ttotal: 809ms\tremaining: 829ms\n",
      "247:\tlearn: 0.3232507\ttotal: 813ms\tremaining: 826ms\n",
      "248:\tlearn: 0.3231442\ttotal: 816ms\tremaining: 823ms\n",
      "249:\tlearn: 0.3230640\ttotal: 819ms\tremaining: 819ms\n",
      "250:\tlearn: 0.3229167\ttotal: 823ms\tremaining: 816ms\n",
      "251:\tlearn: 0.3228111\ttotal: 826ms\tremaining: 813ms\n",
      "252:\tlearn: 0.3226546\ttotal: 829ms\tremaining: 809ms\n",
      "253:\tlearn: 0.3225538\ttotal: 832ms\tremaining: 806ms\n",
      "254:\tlearn: 0.3224613\ttotal: 835ms\tremaining: 802ms\n",
      "255:\tlearn: 0.3224046\ttotal: 838ms\tremaining: 799ms\n",
      "256:\tlearn: 0.3223169\ttotal: 842ms\tremaining: 796ms\n",
      "257:\tlearn: 0.3222387\ttotal: 846ms\tremaining: 793ms\n",
      "258:\tlearn: 0.3221170\ttotal: 848ms\tremaining: 789ms\n",
      "259:\tlearn: 0.3220579\ttotal: 851ms\tremaining: 786ms\n",
      "260:\tlearn: 0.3219261\ttotal: 854ms\tremaining: 782ms\n",
      "261:\tlearn: 0.3218529\ttotal: 857ms\tremaining: 779ms\n",
      "262:\tlearn: 0.3217944\ttotal: 860ms\tremaining: 775ms\n",
      "263:\tlearn: 0.3217256\ttotal: 863ms\tremaining: 772ms\n",
      "264:\tlearn: 0.3215624\ttotal: 866ms\tremaining: 768ms\n",
      "265:\tlearn: 0.3214776\ttotal: 870ms\tremaining: 765ms\n",
      "266:\tlearn: 0.3214190\ttotal: 872ms\tremaining: 761ms\n",
      "267:\tlearn: 0.3213468\ttotal: 876ms\tremaining: 758ms\n",
      "268:\tlearn: 0.3212498\ttotal: 879ms\tremaining: 755ms\n",
      "269:\tlearn: 0.3211754\ttotal: 883ms\tremaining: 752ms\n",
      "270:\tlearn: 0.3211110\ttotal: 886ms\tremaining: 749ms\n",
      "271:\tlearn: 0.3210562\ttotal: 890ms\tremaining: 746ms\n",
      "272:\tlearn: 0.3209210\ttotal: 894ms\tremaining: 743ms\n",
      "273:\tlearn: 0.3208147\ttotal: 897ms\tremaining: 740ms\n",
      "274:\tlearn: 0.3207265\ttotal: 901ms\tremaining: 737ms\n",
      "275:\tlearn: 0.3206102\ttotal: 905ms\tremaining: 734ms\n",
      "276:\tlearn: 0.3205544\ttotal: 909ms\tremaining: 732ms\n",
      "277:\tlearn: 0.3204840\ttotal: 913ms\tremaining: 729ms\n",
      "278:\tlearn: 0.3204121\ttotal: 916ms\tremaining: 725ms\n",
      "279:\tlearn: 0.3203596\ttotal: 919ms\tremaining: 722ms\n",
      "280:\tlearn: 0.3202494\ttotal: 922ms\tremaining: 719ms\n",
      "281:\tlearn: 0.3202100\ttotal: 926ms\tremaining: 716ms\n",
      "282:\tlearn: 0.3201214\ttotal: 930ms\tremaining: 713ms\n",
      "283:\tlearn: 0.3199853\ttotal: 934ms\tremaining: 710ms\n",
      "284:\tlearn: 0.3199193\ttotal: 937ms\tremaining: 707ms\n",
      "285:\tlearn: 0.3198402\ttotal: 941ms\tremaining: 704ms\n",
      "286:\tlearn: 0.3197946\ttotal: 944ms\tremaining: 701ms\n",
      "287:\tlearn: 0.3196576\ttotal: 947ms\tremaining: 697ms\n",
      "288:\tlearn: 0.3195837\ttotal: 950ms\tremaining: 694ms\n",
      "289:\tlearn: 0.3195128\ttotal: 953ms\tremaining: 690ms\n",
      "290:\tlearn: 0.3194402\ttotal: 957ms\tremaining: 687ms\n",
      "291:\tlearn: 0.3193511\ttotal: 961ms\tremaining: 684ms\n",
      "292:\tlearn: 0.3192335\ttotal: 963ms\tremaining: 681ms\n",
      "293:\tlearn: 0.3191825\ttotal: 967ms\tremaining: 677ms\n",
      "294:\tlearn: 0.3190715\ttotal: 970ms\tremaining: 674ms\n",
      "295:\tlearn: 0.3190174\ttotal: 974ms\tremaining: 671ms\n",
      "296:\tlearn: 0.3189078\ttotal: 978ms\tremaining: 668ms\n",
      "297:\tlearn: 0.3188721\ttotal: 981ms\tremaining: 665ms\n",
      "298:\tlearn: 0.3187800\ttotal: 984ms\tremaining: 662ms\n",
      "299:\tlearn: 0.3186876\ttotal: 988ms\tremaining: 659ms\n",
      "300:\tlearn: 0.3186438\ttotal: 992ms\tremaining: 656ms\n",
      "301:\tlearn: 0.3185260\ttotal: 995ms\tremaining: 652ms\n",
      "302:\tlearn: 0.3184430\ttotal: 998ms\tremaining: 649ms\n",
      "303:\tlearn: 0.3183951\ttotal: 1s\tremaining: 646ms\n",
      "304:\tlearn: 0.3182832\ttotal: 1s\tremaining: 643ms\n",
      "305:\tlearn: 0.3181586\ttotal: 1.01s\tremaining: 640ms\n",
      "306:\tlearn: 0.3180636\ttotal: 1.01s\tremaining: 637ms\n",
      "307:\tlearn: 0.3179709\ttotal: 1.02s\tremaining: 634ms\n",
      "308:\tlearn: 0.3178623\ttotal: 1.02s\tremaining: 630ms\n",
      "309:\tlearn: 0.3177960\ttotal: 1.02s\tremaining: 627ms\n",
      "310:\tlearn: 0.3177345\ttotal: 1.03s\tremaining: 624ms\n",
      "311:\tlearn: 0.3176920\ttotal: 1.03s\tremaining: 621ms\n",
      "312:\tlearn: 0.3176420\ttotal: 1.03s\tremaining: 617ms\n",
      "313:\tlearn: 0.3175772\ttotal: 1.04s\tremaining: 614ms\n",
      "314:\tlearn: 0.3175283\ttotal: 1.04s\tremaining: 611ms\n",
      "315:\tlearn: 0.3174553\ttotal: 1.04s\tremaining: 607ms\n",
      "316:\tlearn: 0.3173799\ttotal: 1.04s\tremaining: 604ms\n",
      "317:\tlearn: 0.3172868\ttotal: 1.05s\tremaining: 601ms\n",
      "318:\tlearn: 0.3172125\ttotal: 1.05s\tremaining: 598ms\n",
      "319:\tlearn: 0.3171073\ttotal: 1.06s\tremaining: 594ms\n",
      "320:\tlearn: 0.3170281\ttotal: 1.06s\tremaining: 591ms\n",
      "321:\tlearn: 0.3169316\ttotal: 1.06s\tremaining: 588ms\n",
      "322:\tlearn: 0.3168702\ttotal: 1.07s\tremaining: 585ms\n",
      "323:\tlearn: 0.3168225\ttotal: 1.07s\tremaining: 581ms\n",
      "324:\tlearn: 0.3166938\ttotal: 1.07s\tremaining: 578ms\n",
      "325:\tlearn: 0.3166024\ttotal: 1.08s\tremaining: 575ms\n",
      "326:\tlearn: 0.3165565\ttotal: 1.08s\tremaining: 572ms\n",
      "327:\tlearn: 0.3164646\ttotal: 1.08s\tremaining: 568ms\n",
      "328:\tlearn: 0.3163947\ttotal: 1.09s\tremaining: 565ms\n",
      "329:\tlearn: 0.3163328\ttotal: 1.09s\tremaining: 562ms\n",
      "330:\tlearn: 0.3162418\ttotal: 1.09s\tremaining: 559ms\n",
      "331:\tlearn: 0.3161589\ttotal: 1.1s\tremaining: 556ms\n",
      "332:\tlearn: 0.3160543\ttotal: 1.1s\tremaining: 552ms\n",
      "333:\tlearn: 0.3159890\ttotal: 1.1s\tremaining: 549ms\n",
      "334:\tlearn: 0.3158998\ttotal: 1.11s\tremaining: 545ms\n",
      "335:\tlearn: 0.3157973\ttotal: 1.11s\tremaining: 542ms\n",
      "336:\tlearn: 0.3157208\ttotal: 1.11s\tremaining: 539ms\n",
      "337:\tlearn: 0.3156225\ttotal: 1.12s\tremaining: 535ms\n",
      "338:\tlearn: 0.3155662\ttotal: 1.12s\tremaining: 532ms\n",
      "339:\tlearn: 0.3154772\ttotal: 1.12s\tremaining: 528ms\n",
      "340:\tlearn: 0.3153911\ttotal: 1.13s\tremaining: 525ms\n",
      "341:\tlearn: 0.3153256\ttotal: 1.13s\tremaining: 521ms\n",
      "342:\tlearn: 0.3152597\ttotal: 1.13s\tremaining: 518ms\n",
      "343:\tlearn: 0.3151493\ttotal: 1.13s\tremaining: 515ms\n",
      "344:\tlearn: 0.3150709\ttotal: 1.14s\tremaining: 511ms\n",
      "345:\tlearn: 0.3150049\ttotal: 1.14s\tremaining: 508ms\n",
      "346:\tlearn: 0.3149372\ttotal: 1.14s\tremaining: 504ms\n",
      "347:\tlearn: 0.3148394\ttotal: 1.15s\tremaining: 501ms\n",
      "348:\tlearn: 0.3147687\ttotal: 1.15s\tremaining: 498ms\n",
      "349:\tlearn: 0.3147316\ttotal: 1.15s\tremaining: 494ms\n",
      "350:\tlearn: 0.3146782\ttotal: 1.16s\tremaining: 491ms\n",
      "351:\tlearn: 0.3145396\ttotal: 1.16s\tremaining: 487ms\n",
      "352:\tlearn: 0.3144860\ttotal: 1.16s\tremaining: 484ms\n",
      "353:\tlearn: 0.3144237\ttotal: 1.17s\tremaining: 481ms\n",
      "354:\tlearn: 0.3143703\ttotal: 1.17s\tremaining: 477ms\n",
      "355:\tlearn: 0.3142265\ttotal: 1.17s\tremaining: 474ms\n",
      "356:\tlearn: 0.3141523\ttotal: 1.17s\tremaining: 470ms\n",
      "357:\tlearn: 0.3141023\ttotal: 1.18s\tremaining: 467ms\n",
      "358:\tlearn: 0.3140034\ttotal: 1.18s\tremaining: 464ms\n",
      "359:\tlearn: 0.3139442\ttotal: 1.18s\tremaining: 460ms\n",
      "360:\tlearn: 0.3138826\ttotal: 1.19s\tremaining: 457ms\n",
      "361:\tlearn: 0.3137934\ttotal: 1.19s\tremaining: 453ms\n",
      "362:\tlearn: 0.3137005\ttotal: 1.19s\tremaining: 450ms\n",
      "363:\tlearn: 0.3136348\ttotal: 1.2s\tremaining: 447ms\n",
      "364:\tlearn: 0.3135445\ttotal: 1.2s\tremaining: 443ms\n",
      "365:\tlearn: 0.3134664\ttotal: 1.2s\tremaining: 440ms\n",
      "366:\tlearn: 0.3133891\ttotal: 1.21s\tremaining: 437ms\n",
      "367:\tlearn: 0.3133123\ttotal: 1.21s\tremaining: 434ms\n",
      "368:\tlearn: 0.3132124\ttotal: 1.21s\tremaining: 431ms\n",
      "369:\tlearn: 0.3130870\ttotal: 1.22s\tremaining: 428ms\n",
      "370:\tlearn: 0.3130170\ttotal: 1.22s\tremaining: 424ms\n",
      "371:\tlearn: 0.3129471\ttotal: 1.23s\tremaining: 422ms\n",
      "372:\tlearn: 0.3128795\ttotal: 1.23s\tremaining: 419ms\n",
      "373:\tlearn: 0.3127941\ttotal: 1.23s\tremaining: 416ms\n",
      "374:\tlearn: 0.3126937\ttotal: 1.24s\tremaining: 413ms\n",
      "375:\tlearn: 0.3126199\ttotal: 1.24s\tremaining: 410ms\n",
      "376:\tlearn: 0.3125793\ttotal: 1.25s\tremaining: 407ms\n",
      "377:\tlearn: 0.3124601\ttotal: 1.25s\tremaining: 404ms\n",
      "378:\tlearn: 0.3123729\ttotal: 1.25s\tremaining: 400ms\n",
      "379:\tlearn: 0.3122886\ttotal: 1.26s\tremaining: 398ms\n",
      "380:\tlearn: 0.3122042\ttotal: 1.26s\tremaining: 395ms\n",
      "381:\tlearn: 0.3120998\ttotal: 1.27s\tremaining: 392ms\n",
      "382:\tlearn: 0.3120452\ttotal: 1.27s\tremaining: 389ms\n",
      "383:\tlearn: 0.3119669\ttotal: 1.27s\tremaining: 385ms\n",
      "384:\tlearn: 0.3119031\ttotal: 1.28s\tremaining: 382ms\n",
      "385:\tlearn: 0.3118333\ttotal: 1.28s\tremaining: 379ms\n",
      "386:\tlearn: 0.3117515\ttotal: 1.29s\tremaining: 376ms\n",
      "387:\tlearn: 0.3116786\ttotal: 1.29s\tremaining: 372ms\n",
      "388:\tlearn: 0.3115800\ttotal: 1.29s\tremaining: 369ms\n",
      "389:\tlearn: 0.3114951\ttotal: 1.29s\tremaining: 365ms\n",
      "390:\tlearn: 0.3113833\ttotal: 1.3s\tremaining: 362ms\n",
      "391:\tlearn: 0.3113356\ttotal: 1.3s\tremaining: 359ms\n",
      "392:\tlearn: 0.3112435\ttotal: 1.3s\tremaining: 355ms\n",
      "393:\tlearn: 0.3111623\ttotal: 1.31s\tremaining: 352ms\n",
      "394:\tlearn: 0.3111118\ttotal: 1.31s\tremaining: 348ms\n",
      "395:\tlearn: 0.3110169\ttotal: 1.31s\tremaining: 345ms\n",
      "396:\tlearn: 0.3109318\ttotal: 1.32s\tremaining: 342ms\n",
      "397:\tlearn: 0.3108425\ttotal: 1.32s\tremaining: 338ms\n",
      "398:\tlearn: 0.3107475\ttotal: 1.32s\tremaining: 335ms\n",
      "399:\tlearn: 0.3106951\ttotal: 1.32s\tremaining: 331ms\n",
      "400:\tlearn: 0.3106300\ttotal: 1.33s\tremaining: 328ms\n",
      "401:\tlearn: 0.3105837\ttotal: 1.33s\tremaining: 325ms\n",
      "402:\tlearn: 0.3105159\ttotal: 1.33s\tremaining: 321ms\n",
      "403:\tlearn: 0.3104218\ttotal: 1.34s\tremaining: 318ms\n",
      "404:\tlearn: 0.3103312\ttotal: 1.34s\tremaining: 315ms\n",
      "405:\tlearn: 0.3102518\ttotal: 1.34s\tremaining: 311ms\n",
      "406:\tlearn: 0.3101428\ttotal: 1.35s\tremaining: 308ms\n",
      "407:\tlearn: 0.3100889\ttotal: 1.35s\tremaining: 305ms\n",
      "408:\tlearn: 0.3100279\ttotal: 1.35s\tremaining: 301ms\n",
      "409:\tlearn: 0.3099181\ttotal: 1.36s\tremaining: 298ms\n",
      "410:\tlearn: 0.3098489\ttotal: 1.36s\tremaining: 294ms\n",
      "411:\tlearn: 0.3097676\ttotal: 1.36s\tremaining: 291ms\n",
      "412:\tlearn: 0.3096929\ttotal: 1.36s\tremaining: 288ms\n",
      "413:\tlearn: 0.3096179\ttotal: 1.37s\tremaining: 284ms\n",
      "414:\tlearn: 0.3095647\ttotal: 1.37s\tremaining: 281ms\n",
      "415:\tlearn: 0.3094979\ttotal: 1.37s\tremaining: 278ms\n",
      "416:\tlearn: 0.3093750\ttotal: 1.38s\tremaining: 274ms\n",
      "417:\tlearn: 0.3093084\ttotal: 1.38s\tremaining: 271ms\n",
      "418:\tlearn: 0.3092177\ttotal: 1.38s\tremaining: 268ms\n",
      "419:\tlearn: 0.3091346\ttotal: 1.39s\tremaining: 264ms\n",
      "420:\tlearn: 0.3090455\ttotal: 1.39s\tremaining: 261ms\n",
      "421:\tlearn: 0.3089669\ttotal: 1.39s\tremaining: 258ms\n",
      "422:\tlearn: 0.3088976\ttotal: 1.4s\tremaining: 254ms\n",
      "423:\tlearn: 0.3088140\ttotal: 1.4s\tremaining: 251ms\n",
      "424:\tlearn: 0.3087255\ttotal: 1.4s\tremaining: 248ms\n",
      "425:\tlearn: 0.3086487\ttotal: 1.41s\tremaining: 245ms\n",
      "426:\tlearn: 0.3085769\ttotal: 1.41s\tremaining: 241ms\n",
      "427:\tlearn: 0.3085147\ttotal: 1.42s\tremaining: 238ms\n",
      "428:\tlearn: 0.3084094\ttotal: 1.42s\tremaining: 235ms\n",
      "429:\tlearn: 0.3083209\ttotal: 1.42s\tremaining: 231ms\n",
      "430:\tlearn: 0.3082515\ttotal: 1.43s\tremaining: 228ms\n",
      "431:\tlearn: 0.3082066\ttotal: 1.43s\tremaining: 225ms\n",
      "432:\tlearn: 0.3081222\ttotal: 1.43s\tremaining: 222ms\n",
      "433:\tlearn: 0.3080358\ttotal: 1.44s\tremaining: 218ms\n",
      "434:\tlearn: 0.3079897\ttotal: 1.44s\tremaining: 215ms\n",
      "435:\tlearn: 0.3079200\ttotal: 1.44s\tremaining: 212ms\n",
      "436:\tlearn: 0.3078418\ttotal: 1.45s\tremaining: 209ms\n",
      "437:\tlearn: 0.3078039\ttotal: 1.45s\tremaining: 205ms\n",
      "438:\tlearn: 0.3077224\ttotal: 1.45s\tremaining: 202ms\n",
      "439:\tlearn: 0.3076625\ttotal: 1.46s\tremaining: 199ms\n",
      "440:\tlearn: 0.3075694\ttotal: 1.46s\tremaining: 196ms\n",
      "441:\tlearn: 0.3074967\ttotal: 1.47s\tremaining: 192ms\n",
      "442:\tlearn: 0.3074395\ttotal: 1.47s\tremaining: 189ms\n",
      "443:\tlearn: 0.3073376\ttotal: 1.47s\tremaining: 186ms\n",
      "444:\tlearn: 0.3072662\ttotal: 1.48s\tremaining: 182ms\n",
      "445:\tlearn: 0.3071895\ttotal: 1.48s\tremaining: 179ms\n",
      "446:\tlearn: 0.3071425\ttotal: 1.48s\tremaining: 176ms\n",
      "447:\tlearn: 0.3070499\ttotal: 1.49s\tremaining: 173ms\n",
      "448:\tlearn: 0.3069570\ttotal: 1.49s\tremaining: 169ms\n",
      "449:\tlearn: 0.3068537\ttotal: 1.49s\tremaining: 166ms\n",
      "450:\tlearn: 0.3067506\ttotal: 1.5s\tremaining: 163ms\n",
      "451:\tlearn: 0.3066707\ttotal: 1.5s\tremaining: 159ms\n",
      "452:\tlearn: 0.3065866\ttotal: 1.5s\tremaining: 156ms\n",
      "453:\tlearn: 0.3064946\ttotal: 1.51s\tremaining: 153ms\n",
      "454:\tlearn: 0.3064293\ttotal: 1.51s\tremaining: 149ms\n",
      "455:\tlearn: 0.3063853\ttotal: 1.51s\tremaining: 146ms\n",
      "456:\tlearn: 0.3063243\ttotal: 1.52s\tremaining: 143ms\n",
      "457:\tlearn: 0.3062207\ttotal: 1.52s\tremaining: 139ms\n",
      "458:\tlearn: 0.3061444\ttotal: 1.52s\tremaining: 136ms\n",
      "459:\tlearn: 0.3060800\ttotal: 1.53s\tremaining: 133ms\n",
      "460:\tlearn: 0.3060248\ttotal: 1.53s\tremaining: 129ms\n",
      "461:\tlearn: 0.3059830\ttotal: 1.53s\tremaining: 126ms\n",
      "462:\tlearn: 0.3059227\ttotal: 1.53s\tremaining: 123ms\n",
      "463:\tlearn: 0.3058564\ttotal: 1.54s\tremaining: 119ms\n",
      "464:\tlearn: 0.3057817\ttotal: 1.54s\tremaining: 116ms\n",
      "465:\tlearn: 0.3056953\ttotal: 1.54s\tremaining: 113ms\n",
      "466:\tlearn: 0.3056152\ttotal: 1.55s\tremaining: 109ms\n",
      "467:\tlearn: 0.3055429\ttotal: 1.55s\tremaining: 106ms\n",
      "468:\tlearn: 0.3054600\ttotal: 1.55s\tremaining: 103ms\n",
      "469:\tlearn: 0.3053912\ttotal: 1.56s\tremaining: 99.4ms\n",
      "470:\tlearn: 0.3053526\ttotal: 1.56s\tremaining: 96.1ms\n",
      "471:\tlearn: 0.3052829\ttotal: 1.56s\tremaining: 92.8ms\n",
      "472:\tlearn: 0.3051934\ttotal: 1.57s\tremaining: 89.5ms\n",
      "473:\tlearn: 0.3051145\ttotal: 1.57s\tremaining: 86.2ms\n",
      "474:\tlearn: 0.3050303\ttotal: 1.57s\tremaining: 82.9ms\n",
      "475:\tlearn: 0.3049807\ttotal: 1.58s\tremaining: 79.6ms\n",
      "476:\tlearn: 0.3049337\ttotal: 1.58s\tremaining: 76.3ms\n",
      "477:\tlearn: 0.3048415\ttotal: 1.58s\tremaining: 72.9ms\n",
      "478:\tlearn: 0.3047713\ttotal: 1.59s\tremaining: 69.6ms\n",
      "479:\tlearn: 0.3047116\ttotal: 1.59s\tremaining: 66.3ms\n",
      "480:\tlearn: 0.3046387\ttotal: 1.59s\tremaining: 63ms\n",
      "481:\tlearn: 0.3045692\ttotal: 1.6s\tremaining: 59.7ms\n",
      "482:\tlearn: 0.3045145\ttotal: 1.6s\tremaining: 56.4ms\n",
      "483:\tlearn: 0.3044536\ttotal: 1.6s\tremaining: 53.1ms\n",
      "484:\tlearn: 0.3043938\ttotal: 1.61s\tremaining: 49.8ms\n",
      "485:\tlearn: 0.3043421\ttotal: 1.61s\tremaining: 46.4ms\n",
      "486:\tlearn: 0.3042844\ttotal: 1.61s\tremaining: 43.1ms\n",
      "487:\tlearn: 0.3042679\ttotal: 1.62s\tremaining: 39.8ms\n",
      "488:\tlearn: 0.3041978\ttotal: 1.62s\tremaining: 36.5ms\n",
      "489:\tlearn: 0.3041286\ttotal: 1.63s\tremaining: 33.2ms\n",
      "490:\tlearn: 0.3040445\ttotal: 1.63s\tremaining: 29.9ms\n",
      "491:\tlearn: 0.3039596\ttotal: 1.63s\tremaining: 26.5ms\n",
      "492:\tlearn: 0.3038941\ttotal: 1.64s\tremaining: 23.2ms\n",
      "493:\tlearn: 0.3038534\ttotal: 1.64s\tremaining: 19.9ms\n",
      "494:\tlearn: 0.3037825\ttotal: 1.64s\tremaining: 16.6ms\n",
      "495:\tlearn: 0.3037112\ttotal: 1.65s\tremaining: 13.3ms\n",
      "496:\tlearn: 0.3035894\ttotal: 1.65s\tremaining: 9.96ms\n",
      "497:\tlearn: 0.3035183\ttotal: 1.65s\tremaining: 6.64ms\n",
      "498:\tlearn: 0.3034726\ttotal: 1.66s\tremaining: 3.32ms\n",
      "499:\tlearn: 0.3034196\ttotal: 1.66s\tremaining: 0us\n"
     ]
    }
   ],
   "source": [
    "catb_cv_model = GridSearchCV(catb,catb_params,cv=10,n_jobs=-1,verbose=2).fit(X_train,y_train)"
   ]
  },
  {
   "cell_type": "code",
   "execution_count": 49,
   "id": "be1f8d35-7f7d-477e-9277-c5989f5cd6d9",
   "metadata": {},
   "outputs": [
    {
     "data": {
      "text/plain": [
       "{'depth': 4, 'iterations': 500, 'learning_rate': 0.03}"
      ]
     },
     "execution_count": 49,
     "metadata": {},
     "output_type": "execute_result"
    }
   ],
   "source": [
    "catb_cv_model.best_params_"
   ]
  },
  {
   "cell_type": "code",
   "execution_count": 50,
   "id": "32be4d51-6d91-4262-bed0-0e0adb0267c8",
   "metadata": {},
   "outputs": [],
   "source": [
    "catb_tuned = CatBoostClassifier(iterations=500,learning_rate=0.03,depth=4).fit(X_train,y_train,verbose=False)"
   ]
  },
  {
   "cell_type": "code",
   "execution_count": 51,
   "id": "38ddc5b2-fa24-432b-a261-5f7f777858f5",
   "metadata": {},
   "outputs": [],
   "source": [
    "y_pred = catb_tuned.predict(X_test)"
   ]
  },
  {
   "cell_type": "code",
   "execution_count": 52,
   "id": "b24c0626-a7e1-4c63-a562-938d9df738a7",
   "metadata": {},
   "outputs": [
    {
     "data": {
      "text/plain": [
       "0.8739579859953318"
      ]
     },
     "execution_count": 52,
     "metadata": {},
     "output_type": "execute_result"
    }
   ],
   "source": [
    "accuracy_score(y_test,y_pred)"
   ]
  },
  {
   "cell_type": "markdown",
   "id": "80c71b0e-36bb-4487-8d41-78ed785e7383",
   "metadata": {},
   "source": [
    "#### CatBoost modeli için **GridSearchCV** yöntemiyle hiperparametre optimizasyonu yapıldı fakat daha yüksek bir doğruluk oranına ulaşılamadı."
   ]
  },
  {
   "cell_type": "markdown",
   "id": "fdd427ac-8ef9-4bf5-922d-50613ca5c861",
   "metadata": {},
   "source": [
    "## Değişken Önem Düzeyleri"
   ]
  },
  {
   "cell_type": "markdown",
   "id": "4501ee4e-8d85-4dae-a1e9-dd09c208893b",
   "metadata": {},
   "source": [
    "#### Veri setindeki değişkenlerin CatBoost Modeli ile yapılan doğruluk hesaplamasındaki önem düzeyleri belirlendi."
   ]
  },
  {
   "cell_type": "code",
   "execution_count": 53,
   "id": "97752c24-504d-47dd-8284-7455c0c61f6b",
   "metadata": {},
   "outputs": [
    {
     "data": {
      "image/png": "[encoded data removed]",
      "text/plain": [
       "<Figure size 432x288 with 1 Axes>"
      ]
     },
     "metadata": {
      "needs_background": "light"
     },
     "output_type": "display_data"
    }
   ],
   "source": [
    "feature_imp = pd.Series(catb_model.feature_importances_,\n",
    "                       index=X_train.columns).sort_values(ascending=False)\n",
    "\n",
    "sns.barplot(x=feature_imp, y=feature_imp.index)\n",
    "plt.xlabel(\"değişken önem skorları\")\n",
    "plt.ylabel(\"değişkenler\")\n",
    "plt.title(\"değişken önem düzeyleri\")\n",
    "plt.show()"
   ]
  }
 ],
 "metadata": {
  "kernelspec": {
   "display_name": "Python 3",
   "language": "python",
   "name": "python3"
  },
  "language_info": {
   "codemirror_mode": {
    "name": "ipython",
    "version": 3
   },
   "file_extension": ".py",
   "mimetype": "text/x-python",
   "name": "python",
   "nbconvert_exporter": "python",
   "pygments_lexer": "ipython3",
   "version": "3.8.8"
  }
 },
 "nbformat": 4,
 "nbformat_minor": 5
}
